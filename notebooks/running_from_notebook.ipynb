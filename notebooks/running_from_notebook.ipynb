{
 "cells": [
  {
   "cell_type": "code",
   "execution_count": 1,
   "id": "e1dc870e-343c-4f1e-9b2a-9b0975fb27c6",
   "metadata": {},
   "outputs": [],
   "source": [
    "import os\n",
    "import numpy as np\n",
    "import matplotlib.pyplot as plt\n",
    "import copy"
   ]
  },
  {
   "cell_type": "code",
   "execution_count": 2,
   "id": "9fd10f0c-a171-406e-ad38-6149b6d87895",
   "metadata": {},
   "outputs": [],
   "source": [
    "from calphy import Calculation, Solid, Liquid"
   ]
  },
  {
   "cell_type": "code",
   "execution_count": 3,
   "id": "314f0ed3-e40c-4b2d-a142-e70758d9a790",
   "metadata": {},
   "outputs": [],
   "source": [
    "csol = Calculation()"
   ]
  },
  {
   "cell_type": "code",
   "execution_count": 4,
   "id": "c5b5508d-9cc9-4d70-bd93-e82b7d11ddd9",
   "metadata": {},
   "outputs": [],
   "source": [
    "csol.mode = \"ts\"\n",
    "csol.element = \"Cu\"\n",
    "csol.mass = 63.546\n",
    "csol.temperature = [1200, 1400]\n",
    "csol.pressure = 0\n",
    "csol.lattice = \"FCC\"\n",
    "csol.repeat = [5,5,5]\n",
    "csol.reference_phase = \"solid\"\n",
    "csol.pair_style = \"eam/alloy\"\n",
    "csol.pair_coeff = \"* * ../examples/potentials/Cu01.eam.alloy Cu\"\n",
    "csol.n_equilibration_steps = 10000\n",
    "csol.n_switching_steps = 25000\n",
    "\n",
    "csol.queue.scheduler = \"local\"\n",
    "csol.queue.cores = 4\n",
    "csol.queue.commands = [\"conda activate calphy-dev\"]"
   ]
  },
  {
   "cell_type": "code",
   "execution_count": 5,
   "id": "9df03f5e-bf6f-4c1f-83aa-618161096f68",
   "metadata": {},
   "outputs": [],
   "source": [
    "simfolder = csol.create_folders()"
   ]
  },
  {
   "cell_type": "code",
   "execution_count": 6,
   "id": "64a1b116-c85b-4de3-abe6-b54ce0221a50",
   "metadata": {},
   "outputs": [],
   "source": [
    "soljob = Solid(calculation=csol, simfolder=simfolder)"
   ]
  },
  {
   "cell_type": "code",
   "execution_count": 7,
   "id": "24071c05-a2ed-4568-8b44-841d4dfd4284",
   "metadata": {
    "tags": []
   },
   "outputs": [],
   "source": [
    "soljob.run_averaging()"
   ]
  },
  {
   "cell_type": "code",
   "execution_count": 6,
   "id": "2323e638-5dfc-4d76-854d-18c21f1eedf8",
   "metadata": {},
   "outputs": [],
   "source": [
    "np.save(\"sol.npy\", soljob)"
   ]
  },
  {
   "cell_type": "code",
   "execution_count": 5,
   "id": "ee21d4af-9688-44f2-a524-2a440f3ee25f",
   "metadata": {},
   "outputs": [],
   "source": [
    "soljob.run_integration(iteration=1)"
   ]
  },
  {
   "cell_type": "code",
   "execution_count": 4,
   "id": "4cfa3ba8-8edb-400b-ba07-56fe7ae736d7",
   "metadata": {},
   "outputs": [],
   "source": [
    "soljob.thermodynamic_integration()"
   ]
  },
  {
   "cell_type": "code",
   "execution_count": 5,
   "id": "e7651d0d-bf5f-4ff7-8119-c862ab7d0a34",
   "metadata": {},
   "outputs": [],
   "source": [
    "soljob.submit_report()"
   ]
  },
  {
   "cell_type": "code",
   "execution_count": 3,
   "id": "6fc6516a-9e5d-4213-b3f3-1b62a175abb1",
   "metadata": {},
   "outputs": [],
   "source": [
    "soljob = np.load(\"sol.npy\", allow_pickle=True).flatten()[0]"
   ]
  },
  {
   "cell_type": "code",
   "execution_count": 4,
   "id": "2930be3f-24b4-43fc-92c3-b4fa249082aa",
   "metadata": {},
   "outputs": [],
   "source": [
    "soljob.reversible_scaling(iteration=1)"
   ]
  },
  {
   "cell_type": "code",
   "execution_count": 5,
   "id": "21dd5968-732b-49eb-bc18-791e67940790",
   "metadata": {},
   "outputs": [],
   "source": [
    "soljob.integrate_reversible_scaling(scale_energy=True)"
   ]
  },
  {
   "cell_type": "code",
   "execution_count": 5,
   "id": "08f5da57-dd26-43d2-bbef-da858ce29303",
   "metadata": {},
   "outputs": [],
   "source": [
    "clqd = copy.deepcopy(csol)"
   ]
  },
  {
   "cell_type": "code",
   "execution_count": 6,
   "id": "b5ca4c54-3078-43d0-b9f8-4fabc6d796f6",
   "metadata": {},
   "outputs": [],
   "source": [
    "clqd.lattice = \"FCC\"\n",
    "clqd.repeat = [5,5,5]\n",
    "clqd.reference_phase = \"liquid\""
   ]
  },
  {
   "cell_type": "code",
   "execution_count": 7,
   "id": "ee3abc31-1c3f-4483-a5d4-c6e16753699b",
   "metadata": {},
   "outputs": [],
   "source": [
    "simfolder = clqd.create_folders()"
   ]
  },
  {
   "cell_type": "code",
   "execution_count": 8,
   "id": "59937ad3-1636-4008-a9a4-9bb8d2890af0",
   "metadata": {},
   "outputs": [],
   "source": [
    "sollqd = Liquid(calculation=clqd, simfolder=simfolder)"
   ]
  },
  {
   "cell_type": "code",
   "execution_count": 9,
   "id": "1a1f4b39-144b-4ec8-895f-68a1d128923a",
   "metadata": {},
   "outputs": [],
   "source": [
    "sollqd.run_averaging()"
   ]
  },
  {
   "cell_type": "code",
   "execution_count": 11,
   "id": "99914af4-86d5-4437-87a1-35d9ab51db52",
   "metadata": {},
   "outputs": [],
   "source": [
    "sollqd.run_integration(iteration=1)"
   ]
  },
  {
   "cell_type": "code",
   "execution_count": 13,
   "id": "87ea90fe-0caf-462a-bd55-5af14935a64d",
   "metadata": {},
   "outputs": [],
   "source": [
    "sollqd.thermodynamic_integration()\n",
    "sollqd.submit_report()"
   ]
  },
  {
   "cell_type": "code",
   "execution_count": 15,
   "id": "9fe3e0c3-2b49-40c3-b652-9ae254912cb9",
   "metadata": {},
   "outputs": [],
   "source": [
    "sollqd.reversible_scaling(iteration=1)"
   ]
  },
  {
   "cell_type": "code",
   "execution_count": 16,
   "id": "fc47c267-352b-48ae-b6e2-a1e2a0ffa724",
   "metadata": {},
   "outputs": [],
   "source": [
    "np.save(\"lqd.npy\", sollqd)"
   ]
  },
  {
   "cell_type": "code",
   "execution_count": 17,
   "id": "5b76c6b5-2bf6-4d50-a6d9-f539541a5880",
   "metadata": {},
   "outputs": [],
   "source": [
    "sollqd.integrate_reversible_scaling(scale_energy=True)"
   ]
  },
  {
   "cell_type": "code",
   "execution_count": null,
   "id": "163f7799-d344-42a6-a5e0-ca7f5dc7334c",
   "metadata": {},
   "outputs": [],
   "source": [
    "sfe"
   ]
  }
 ],
 "metadata": {
  "kernelspec": {
   "display_name": "Python 3 (ipykernel)",
   "language": "python",
   "name": "python3"
  },
  "language_info": {
   "codemirror_mode": {
    "name": "ipython",
    "version": 3
   },
   "file_extension": ".py",
   "mimetype": "text/x-python",
   "name": "python",
   "nbconvert_exporter": "python",
   "pygments_lexer": "ipython3",
   "version": "3.10.4"
  }
 },
 "nbformat": 4,
 "nbformat_minor": 5
}
