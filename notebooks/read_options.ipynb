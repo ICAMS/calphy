{
 "cells": [
  {
   "cell_type": "code",
   "execution_count": 1,
   "metadata": {},
   "outputs": [],
   "source": [
    "from pytint.input import read_yamlfile"
   ]
  },
  {
   "cell_type": "code",
   "execution_count": 2,
   "metadata": {},
   "outputs": [],
   "source": [
    "options = read_yamlfile(\"../examples/Cu_EAM/input.yaml\")"
   ]
  },
  {
   "cell_type": "code",
   "execution_count": 4,
   "metadata": {},
   "outputs": [
    {
     "data": {
      "text/plain": [
       "[{'temperature': 1300,\n",
       "  'pressure': 0,\n",
       "  'lattice': 'FCC',\n",
       "  'state': 'solid',\n",
       "  'temperature_stop': 1400,\n",
       "  'repeat': [4, 4, 4],\n",
       "  'nsims': 1}]"
      ]
     },
     "execution_count": 4,
     "metadata": {},
     "output_type": "execute_result"
    }
   ],
   "source": [
    "options[\"calculations\"]"
   ]
  },
  {
   "cell_type": "code",
   "execution_count": 3,
   "metadata": {},
   "outputs": [
    {
     "data": {
      "text/plain": [
       "False"
      ]
     },
     "execution_count": 3,
     "metadata": {},
     "output_type": "execute_result"
    }
   ],
   "source": [
    "isinstance(\"cu\", list)"
   ]
  },
  {
   "cell_type": "code",
   "execution_count": 48,
   "metadata": {},
   "outputs": [],
   "source": [
    "from lammps import lammps"
   ]
  },
  {
   "cell_type": "code",
   "execution_count": 62,
   "metadata": {},
   "outputs": [],
   "source": [
    "lmp = lammps()\n",
    "lmp.command(\"units                   metal\")\n",
    "lmp.command(\"boundary                p p p\")\n",
    "lmp.command(\"atom_style              atomic\")\n",
    "\n",
    "lmp.command(\"lattice          fcc 4.0\")\n",
    "lmp.command(\"region           box block 0 2 0 2 0 2\")\n",
    "lmp.command(\"create_box       1 box\")\n",
    "lmp.command(\"read_dump        ../examples/Cu_EAM/ts-FCC-1300-0/conf.dump 0 x y z vx vy vz scaled no box yes add keep\")\n",
    "lmp.command(\"mass             * 1\")\n",
    "lmp.command(\"run 0\")\n",
    "lmp.command(\"change_box     all x final 0.0 12.0 y final 0.0 12.0 z final 0.0 12.0 remap units box\")\n",
    "lmp.command(\"dump              2 all custom 1 traj.dat id type mass x y z\")\n",
    "lmp.command(\"run               0\")\n",
    "lmp.command(\"undump            2\")\n",
    "lmp.close()"
   ]
  },
  {
   "cell_type": "code",
   "execution_count": 57,
   "metadata": {},
   "outputs": [],
   "source": []
  },
  {
   "cell_type": "code",
   "execution_count": 58,
   "metadata": {},
   "outputs": [],
   "source": []
  },
  {
   "cell_type": "code",
   "execution_count": 59,
   "metadata": {},
   "outputs": [],
   "source": []
  },
  {
   "cell_type": "code",
   "execution_count": 61,
   "metadata": {},
   "outputs": [],
   "source": []
  }
 ],
 "metadata": {
  "kernelspec": {
   "display_name": "ace",
   "language": "python",
   "name": "ace"
  },
  "language_info": {
   "codemirror_mode": {
    "name": "ipython",
    "version": 3
   },
   "file_extension": ".py",
   "mimetype": "text/x-python",
   "name": "python",
   "nbconvert_exporter": "python",
   "pygments_lexer": "ipython3",
   "version": "3.8.6"
  }
 },
 "nbformat": 4,
 "nbformat_minor": 4
}
