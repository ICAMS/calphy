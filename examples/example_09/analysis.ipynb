{
 "cells": [
  {
   "cell_type": "markdown",
   "id": "090a10c7-9400-4e6a-9c68-5509aac378cd",
   "metadata": {},
   "source": [
    "# Example 09: Pressure scaling"
   ]
  },
  {
   "cell_type": "markdown",
   "id": "c932936a-d608-4b05-ad3b-e61903d5f8e8",
   "metadata": {},
   "source": [
    "In some cases, it is useful to obtain the free energy as a function of the pressure. The calphy mode `pscale` allows to do this.\n",
    "\n",
    "The EAM potential we will use is : [Mishin, Y., M. J. Mehl, D. A. Papaconstantopoulos, A. F. Voter, and J. D. Kress. “Structural Stability and Lattice Defects in Copper: Ab Initio , Tight-Binding, and Embedded-Atom Calculations.” Physical Review B 63, no. 22 (May 21, 2001): 224106.](https://doi.org/10.1103/PhysRevB.63.224106)\n",
    "\n",
    "The input file is provided in the folder. The pressure scale input file is `input2.yaml`, in which we calculate the free energy at 1200 K from 0 to 1 GPa. To compare, we do direct free energy calculations at the same temperature and pressures of 0, 0.5 and 1 GPa. The input for this is provided in `input1.yaml`.\n",
    "\n",
    "\n",
    "The calculation can be run by:\n",
    "\n",
    "```\n",
    "calphy -i input1.yaml\n",
    "calphy -i input2.yaml\n",
    "```\n",
    "\n",
    "After the calculations are over, we can read in and analyse the results."
   ]
  },
  {
   "cell_type": "code",
   "execution_count": 1,
   "id": "0da2dda1-fa97-4b96-aec7-bacb21448c10",
   "metadata": {},
   "outputs": [],
   "source": [
    "import numpy as np\n",
    "import matplotlib.pyplot as plt"
   ]
  },
  {
   "cell_type": "code",
   "execution_count": 2,
   "id": "0d8004f6-6b74-46f5-833f-81ce1051b46b",
   "metadata": {},
   "outputs": [],
   "source": [
    "p1 = [0, 5000, 10000]\n",
    "fe1 = [-4.072, -4.032, -3.993]"
   ]
  },
  {
   "cell_type": "markdown",
   "id": "020ccc3f-a62b-495c-a25c-ddac368700f4",
   "metadata": {},
   "source": [
    "The above values are taken from the `report.yaml` files in the corresponding folders."
   ]
  },
  {
   "cell_type": "markdown",
   "id": "2b89fae3-8d30-4048-ae68-a11a6ff933a7",
   "metadata": {},
   "source": [
    "Note that calphy uses bar as the unit of pressure."
   ]
  },
  {
   "cell_type": "markdown",
   "id": "b0223ccd-9e8b-4413-87db-1c05aa4cd36f",
   "metadata": {},
   "source": [
    "Now read in the pressure scaling results."
   ]
  },
  {
   "cell_type": "code",
   "execution_count": 45,
   "id": "6679312e-55d2-4b76-9d6f-2c0c11337993",
   "metadata": {},
   "outputs": [],
   "source": [
    "p2, fe2, ferr2 = np.loadtxt(\"pscale-FCC-1200-0/pressure_sweep.dat\", unpack=True)\n"
   ]
  },
  {
   "cell_type": "markdown",
   "id": "98ae00f1-6602-4a1b-87dd-906b4bee4536",
   "metadata": {},
   "source": [
    "Now plot"
   ]
  },
  {
   "cell_type": "code",
   "execution_count": 46,
   "id": "ad185997-6205-4e57-90e0-504f1f5096e9",
   "metadata": {
    "tags": []
   },
   "outputs": [
    {
     "data": {
      "text/plain": [
       "<matplotlib.legend.Legend at 0x7f715101df30>"
      ]
     },
     "execution_count": 46,
     "metadata": {},
     "output_type": "execute_result"
    },
    {
     "data": {
      "image/png": "[encoded data removed]",
      "text/plain": [
       "<Figure size 432x288 with 1 Axes>"
      ]
     },
     "metadata": {
      "needs_background": "light"
     },
     "output_type": "display_data"
    }
   ],
   "source": [
    "plt.plot(p2, fe2, color=\"#E53935\", label=\"pscale\")\n",
    "plt.plot(p1, fe1, 'o', color=\"#0097A7\", label=\"direct\")\n",
    "plt.xlabel(\"Pressure (bar)\", fontsize=12)\n",
    "plt.ylabel(\"F (ev/atom)\", fontsize=12)\n",
    "plt.legend()"
   ]
  },
  {
   "cell_type": "code",
   "execution_count": 6,
   "id": "73066b40-72f4-4dd7-93ce-60e8aa8f68a0",
   "metadata": {},
   "outputs": [],
   "source": [
    "from scipy.integrate import cumtrapz\n",
    "import os"
   ]
  },
  {
   "cell_type": "code",
   "execution_count": 34,
   "id": "7b755f23-004e-4ae2-ac08-6647be895e46",
   "metadata": {},
   "outputs": [],
   "source": [
    "_, fp, fvol, _ = np.loadtxt(os.path.join('pscale-FCC-1200-0', \"forward_1.dat\"), unpack=True, comments=\"#\")\n",
    "_, bp, bvol, _ = np.loadtxt(os.path.join('pscale-FCC-1200-0', \"backward_1.dat\"), unpack=True, comments=\"#\")"
   ]
  },
  {
   "cell_type": "code",
   "execution_count": 35,
   "id": "eb88e5f3-9e32-43d7-924c-c590abb15db7",
   "metadata": {},
   "outputs": [],
   "source": [
    "natoms = 4*7**3\n",
    "fvol = fvol/natoms\n",
    "bvol = bvol/natoms"
   ]
  },
  {
   "cell_type": "code",
   "execution_count": 36,
   "id": "8bfc165c-c658-4509-a642-ecd931f5ba47",
   "metadata": {},
   "outputs": [
    {
     "data": {
      "text/plain": [
       "[<matplotlib.lines.Line2D at 0x7f7151762260>]"
      ]
     },
     "execution_count": 36,
     "metadata": {},
     "output_type": "execute_result"
    },
    {
     "data": {
      "image/png": "[encoded data removed]",
      "text/plain": [
       "<Figure size 432x288 with 1 Axes>"
      ]
     },
     "metadata": {
      "needs_background": "light"
     },
     "output_type": "display_data"
    }
   ],
   "source": [
    "#plt.plot(fvol)\n",
    "plt.plot(fp)\n",
    "plt.plot(bp)"
   ]
  },
  {
   "cell_type": "code",
   "execution_count": 32,
   "id": "a0122d92-5e55-43fb-8666-1578c8b0f01b",
   "metadata": {},
   "outputs": [
    {
     "data": {
      "text/plain": [
       "45001"
      ]
     },
     "execution_count": 32,
     "metadata": {},
     "output_type": "execute_result"
    }
   ],
   "source": [
    "len(fp)"
   ]
  },
  {
   "cell_type": "code",
   "execution_count": 37,
   "id": "eba24250-d4e6-4c14-838a-e8f8ae4897c4",
   "metadata": {},
   "outputs": [],
   "source": [
    "fp = fp/(10000*160.21766208)\n",
    "bp = bp/(10000*160.21766208)"
   ]
  },
  {
   "cell_type": "code",
   "execution_count": 38,
   "id": "ed655d36-003e-4851-a511-15f13572db50",
   "metadata": {},
   "outputs": [],
   "source": [
    "wf = cumtrapz(fvol, fp, initial=0)\n",
    "wb = cumtrapz(bvol[::-1], bp[::-1], initial=0)"
   ]
  },
  {
   "cell_type": "code",
   "execution_count": 39,
   "id": "1aba23d6-d448-48f4-84ba-16ebac0b7e0c",
   "metadata": {},
   "outputs": [],
   "source": [
    "w = (wf+wb)/2"
   ]
  },
  {
   "cell_type": "code",
   "execution_count": 40,
   "id": "572ead74-011a-40f4-a6cc-8d102014156b",
   "metadata": {},
   "outputs": [
    {
     "data": {
      "text/plain": [
       "25001"
      ]
     },
     "execution_count": 40,
     "metadata": {},
     "output_type": "execute_result"
    }
   ],
   "source": [
    "len(w)"
   ]
  },
  {
   "cell_type": "code",
   "execution_count": 41,
   "id": "6fa0d364-d756-488d-acfe-3eb72b4529cf",
   "metadata": {},
   "outputs": [
    {
     "data": {
      "text/plain": [
       "[<matplotlib.lines.Line2D at 0x7f71511d3d30>]"
      ]
     },
     "execution_count": 41,
     "metadata": {},
     "output_type": "execute_result"
    },
    {
     "data": {
      "image/png": "[encoded data removed]",
      "text/plain": [
       "<Figure size 432x288 with 1 Axes>"
      ]
     },
     "metadata": {
      "needs_background": "light"
     },
     "output_type": "display_data"
    }
   ],
   "source": [
    "plt.plot(w)"
   ]
  },
  {
   "cell_type": "markdown",
   "id": "3cdcfc8d-440a-4c29-9688-d4a9daf82be2",
   "metadata": {},
   "source": [
    "Although there are some fluctutions at very low pressures, otherwise both methods show excellent agreement. The initial fluctuations can be removed by using longer run times."
   ]
  }
 ],
 "metadata": {
  "kernelspec": {
   "display_name": "pyscal-test",
   "language": "python",
   "name": "pyscal-test"
  },
  "language_info": {
   "codemirror_mode": {
    "name": "ipython",
    "version": 3
   },
   "file_extension": ".py",
   "mimetype": "text/x-python",
   "name": "python",
   "nbconvert_exporter": "python",
   "pygments_lexer": "ipython3",
   "version": "3.10.1"
  }
 },
 "nbformat": 4,
 "nbformat_minor": 5
}
