{
 "cells": [
  {
   "cell_type": "markdown",
   "id": "exceptional-phase",
   "metadata": {},
   "source": [
    "# Example 04: Pressure-temperature phase diagram of Cu"
   ]
  },
  {
   "cell_type": "markdown",
   "id": "charming-fountain",
   "metadata": {},
   "source": [
    "In this example, the pressure-temperature phase diagram of Cu will be calculated.\n",
    "\n",
    "The EAM potential we will use is : [Mishin, Y., M. J. Mehl, D. A. Papaconstantopoulos, A. F. Voter, and J. D. Kress. “Structural Stability and Lattice Defects in Copper: Ab Initio , Tight-Binding, and Embedded-Atom Calculations.” Physical Review B 63, no. 22 (May 21, 2001): 224106.](https://doi.org/10.1103/PhysRevB.63.224106)\n",
    "\n",
    "The input file is provided in the folder. The calculation is very similar to the calculation of melting temperature. However, we calculate the melting temperature for various pressures to arrive at the phase-diagram.\n",
    "\n",
    "There are five input files in the folder, from `input1.yaml` to `input5.yaml`. Each file contains the calculations for a single pressure. You can also add all of the calculations in a single file under the `calculations` block. It is split here into five files for the easiness of running the calculations on relatively small machines.\n",
    "\n",
    "The calculation can be run by:\n",
    "\n",
    "```\n",
    "calphy -i input1.yaml\n",
    "```\n",
    "\n",
    "and so on until `input5.yaml`. After the calculations are over, we can read in the results and compare it."
   ]
  },
  {
   "cell_type": "code",
   "execution_count": 3,
   "id": "liked-behavior",
   "metadata": {},
   "outputs": [],
   "source": [
    "import numpy as np\n",
    "import matplotlib.pyplot as plt"
   ]
  },
  {
   "cell_type": "markdown",
   "id": "threatened-blocking",
   "metadata": {},
   "source": [
    "The starting temperatures and pressures for our calculations:"
   ]
  },
  {
   "cell_type": "code",
   "execution_count": 4,
   "id": "sitting-material",
   "metadata": {},
   "outputs": [],
   "source": [
    "temp = [1600, 2700, 3700, 4600]\n",
    "press = [100000, 500000, 1000000, 1500000]"
   ]
  },
  {
   "cell_type": "markdown",
   "id": "understood-holiday",
   "metadata": {},
   "source": [
    "Now a small loop which goes over each folder and calculates the melting temperature value:"
   ]
  },
  {
   "cell_type": "code",
   "execution_count": 5,
   "id": "pharmaceutical-graduate",
   "metadata": {},
   "outputs": [],
   "source": [
    "tms = []\n",
    "\n",
    "for t, p in zip(temp, press):\n",
    "    sfile =  \"ts-FCC-%d-%d/temperature_sweep.dat\"%(t, p)\n",
    "    lfile =  \"ts-LQD-%d-%d/temperature_sweep.dat\"%(t, p)\n",
    "    t, f, fe = np.loadtxt(sfile, unpack=True)\n",
    "    t, l, fe = np.loadtxt(lfile, unpack=True)\n",
    "    args = np.argsort(np.abs(f-l))\n",
    "    \n",
    "    tms.append(t[args[0]])"
   ]
  },
  {
   "cell_type": "markdown",
   "id": "second-trustee",
   "metadata": {},
   "source": [
    "To compare our results, we will use a Simon equation, given by,\n",
    "\n",
    "$$\n",
    "T_m(P) = T_{m0}(P/a + 1)^b\n",
    "$$\n",
    "\n",
    "We will use reported values for parameters $T_{m0}$, $a$ and $b$ from two different publications:\n",
    "\n",
    "- [Wang, Shuaichuang, Gongmu Zhang, Haifeng Liu, and Haifeng Song. “Modified Z Method to Calculate Melting Curve by Molecular Dynamics.” The Journal of Chemical Physics 138, no. 13 (April 7, 2013): 134101.](https://doi.org/10.1063/1.4798225)"
   ]
  },
  {
   "cell_type": "code",
   "execution_count": 6,
   "id": "noted-intake",
   "metadata": {},
   "outputs": [],
   "source": [
    "def get_tm(press):\n",
    "    tm = 1315*(press/15.84 + 1)**0.543\n",
    "    return tm"
   ]
  },
  {
   "cell_type": "markdown",
   "id": "hourly-services",
   "metadata": {},
   "source": [
    "- [An, Qi, Sheng-Nian Luo, Li-Bo Han, Lianqing Zheng, and Oliver Tschauner. “Melting of Cu under Hydrostatic and Shock Wave Loading to High Pressures.” Journal of Physics: Condensed Matter 20, no. 9 (March 5, 2008): 095220.](https://doi.org/10.1088/0953-8984/20/9/095220)"
   ]
  },
  {
   "cell_type": "code",
   "execution_count": 8,
   "id": "wrapped-drive",
   "metadata": {},
   "outputs": [],
   "source": [
    "def get_tm2(press):\n",
    "    tm = 1325*(press/15.37 + 1)**0.53\n",
    "    return tm"
   ]
  },
  {
   "cell_type": "markdown",
   "id": "quick-offset",
   "metadata": {},
   "source": [
    "An array for pressures over which the two equations will be fit, and values of the two expressions are calculated."
   ]
  },
  {
   "cell_type": "code",
   "execution_count": 9,
   "id": "vanilla-license",
   "metadata": {},
   "outputs": [],
   "source": [
    "pfit = np.arange(0, 151, 1)\n",
    "tma = get_tm(pfit)\n",
    "tmb = get_tm2(pfit)"
   ]
  },
  {
   "cell_type": "code",
   "execution_count": 11,
   "id": "outdoor-lodging",
   "metadata": {},
   "outputs": [
    {
     "data": {
      "image/png": "[encoded data removed]",
      "text/plain": [
       "<Figure size 432x288 with 1 Axes>"
      ]
     },
     "metadata": {
      "needs_background": "light"
     },
     "output_type": "display_data"
    }
   ],
   "source": [
    "plt.plot(pfit, tma, ls=\"dashed\", label=\"Wang et al.\", color=\"#03A9F4\")\n",
    "plt.plot(pfit, tmb, ls=\"dashed\", label=\"An et. al.\", color=\"#E65100\")\n",
    "plt.plot(np.array(press)/10000, tms, 'o', color=\"#1A237E\")\n",
    "plt.xlabel(\"Pressure (GPa)\", fontsize=12)\n",
    "plt.ylabel(r\"$T_m$ (K)\", fontsize=12)\n",
    "plt.legend()\n",
    "plt.savefig(\"tp-diagram.png\", dpi=300, bbox_inches=\"tight\")"
   ]
  }
 ],
 "metadata": {
  "kernelspec": {
   "display_name": "calphy",
   "language": "python",
   "name": "calphy"
  },
  "language_info": {
   "codemirror_mode": {
    "name": "ipython",
    "version": 3
   },
   "file_extension": ".py",
   "mimetype": "text/x-python",
   "name": "python",
   "nbconvert_exporter": "python",
   "pygments_lexer": "ipython3",
   "version": "3.9.7"
  }
 },
 "nbformat": 4,
 "nbformat_minor": 5
}
