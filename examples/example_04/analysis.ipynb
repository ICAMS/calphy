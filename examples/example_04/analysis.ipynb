{
 "cells": [
  {
   "cell_type": "markdown",
   "id": "joined-seven",
   "metadata": {},
   "source": [
    "# Example 04: Automated calculation of melting temperature"
   ]
  },
  {
   "cell_type": "markdown",
   "id": "authorized-presentation",
   "metadata": {},
   "source": [
    "In Example 03, we calculated the melting temperature for Cu. The same can be done in a fully automated way using Calphy. \n",
    "\n",
    "The EAM potential we will use is : [Mishin, Y., M. J. Mehl, D. A. Papaconstantopoulos, A. F. Voter, and J. D. Kress. “Structural Stability and Lattice Defects in Copper: Ab Initio , Tight-Binding, and Embedded-Atom Calculations.” Physical Review B 63, no. 22 (May 21, 2001): 224106.](https://doi.org/10.1103/PhysRevB.63.224106)  \n",
    "\n",
    "The calculation block gives the input conditions at which the calculation is carried out. First of all, the `mode` is `melting_temperature`. This mode is special, and needs much less input information than the other common modes. For example, options such as `lattice`, `state` and `temperature` are (generally; see below for specific cases) not needed. \n",
    "\n",
    "The input file in this case is shown below:\n",
    "\n",
    "```\n",
    "element: Cu\n",
    "mass: 63.546\n",
    "calculations:\n",
    "- mode: melting_temperature \n",
    "  pressure: [0]\n",
    "  repeat: [5, 5, 5]\n",
    "  nsims: 1\n",
    "\n",
    "md:\n",
    "  pair_style: eam/alloy\n",
    "  pair_coeff: \"* * ../potentials/Cu01.eam.alloy Cu\"\n",
    "  timestep: 0.001\n",
    "  nsmall: 10000\n",
    "  tdamp: 0.1\n",
    "  pdamp: 0.1\n",
    "  te: 10000\n",
    "  ts: 15000\n",
    "  \n",
    "queue:\n",
    "  scheduler: local\n",
    "  cores: 4\n",
    "  commands:\n",
    "    - conda activate calphy\n",
    "```\n",
    "\n",
    "Once the input file is set up, the calculation can be run using:\n",
    "\n",
    "```\n",
    "calphy -i input.yaml\n",
    "```\n",
    "\n",
    "A log file called `calphy.log` is also be produced. The log file contains a lot of information about the calculation. Here the most important ones are discussed. The important log file contents are prefixed with `STATE`. On running `grep STATE calphy.log`, the following output is produced.\n",
    "\n",
    "```\n",
    "calphy.helpers INFO     STATE: Temperature range of 1156.600000-1556.600000 K\n",
    "calphy.helpers INFO     STATE: Tm = 1340.39 K +/- 0.00 K, Exp. Tm = 1356.60 K\n",
    "```\n",
    "\n",
    "The calculated melting temperature for this interatomic potential is 1340 K. \n",
    "\n",
    "### How does it work?\n",
    "\n",
    "A flowchart of the automated melting temperature calculation is shown below:\n",
    "\n",
    "![automated tm](flow2.png)\n",
    "\n",
    "### FAQs\n",
    "\n",
    "- **How can I tune the initial guess temperature?**  \n",
    "  The initial guess temperature can be tuned using the keyword `tguess` in the `md` block.\n",
    "  \n",
    "- **How can I tune the width of the temperature range?**  \n",
    "  The width of the temperature scan range can be tuned using the keyword `dtemp` in the `md` block.\n",
    "\n",
    "- **What if the system undergoes a solid-solid phase transition before melting?**  \n",
    "  The lattice that calphy automatically chooses for the solid is the **ground state**. For some elements, for example Ti, a solid-solid phase transition occurs before melting. HCP Ti transforms to BCC Ti and then to liquid. Therefore to use the automated method, the solid lattice has to be specified using the `lattice` keyword.\n",
    "\n",
    "- **How can I calculate melting temperature at non zero pressure?**  \n",
    "  The required pressure can be specified using the `pressure` keyword. Note that specifying `tguess` could help speed up the calculation.\n",
    "\n"
   ]
  }
 ],
 "metadata": {
  "kernelspec": {
   "display_name": "calphy",
   "language": "python",
   "name": "calphy"
  },
  "language_info": {
   "codemirror_mode": {
    "name": "ipython",
    "version": 3
   },
   "file_extension": ".py",
   "mimetype": "text/x-python",
   "name": "python",
   "nbconvert_exporter": "python",
   "pygments_lexer": "ipython3",
   "version": "3.9.7"
  }
 },
 "nbformat": 4,
 "nbformat_minor": 5
}
