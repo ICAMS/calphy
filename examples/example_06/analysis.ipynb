{
 "cells": [
  {
   "cell_type": "markdown",
   "id": "narrative-protection",
   "metadata": {},
   "source": [
    "# Example 06: Running `calphy` from jupyter notebooks\n",
    "\n",
    "In this example, `calphy` will be used as a library to run Example 01 directly from a jupyter notebook. Please check example 01 before completing this example. We start by import a function to read the input file."
   ]
  },
  {
   "cell_type": "code",
   "execution_count": 1,
   "id": "posted-sustainability",
   "metadata": {},
   "outputs": [],
   "source": [
    "from calphy.input import read_inputfile"
   ]
  },
  {
   "cell_type": "code",
   "execution_count": 2,
   "id": "extra-precipitation",
   "metadata": {},
   "outputs": [],
   "source": [
    "options = read_inputfile(\"input.yaml\")"
   ]
  },
  {
   "cell_type": "markdown",
   "id": "royal-vitamin",
   "metadata": {},
   "source": [
    "We can check the keys of the options dictionary."
   ]
  },
  {
   "cell_type": "code",
   "execution_count": 3,
   "id": "stock-portuguese",
   "metadata": {},
   "outputs": [
    {
     "data": {
      "text/plain": [
       "dict_keys(['calculations', 'md', 'queue', 'conv', 'element', 'mass', 'nelements'])"
      ]
     },
     "execution_count": 3,
     "metadata": {},
     "output_type": "execute_result"
    }
   ],
   "source": [
    "options.keys()"
   ]
  },
  {
   "cell_type": "markdown",
   "id": "electronic-looking",
   "metadata": {},
   "source": [
    "The individual methods that are required to run the calculation can be imported from the `queuekernel` module."
   ]
  },
  {
   "cell_type": "code",
   "execution_count": 4,
   "id": "worldwide-liverpool",
   "metadata": {},
   "outputs": [],
   "source": [
    "import calphy.queuekernel as cq "
   ]
  },
  {
   "cell_type": "markdown",
   "id": "caring-passing",
   "metadata": {},
   "source": [
    "First, we set up a class which prepares everything for the calculation. It takes `options` as the first argument, followed by an integer argument. The second argument indicates which calculation from the calculation block is run."
   ]
  },
  {
   "cell_type": "code",
   "execution_count": 5,
   "id": "noble-measure",
   "metadata": {},
   "outputs": [],
   "source": [
    "job = cq.setup_calculation(options, 0)"
   ]
  },
  {
   "cell_type": "code",
   "execution_count": 6,
   "id": "lonely-howard",
   "metadata": {},
   "outputs": [
    {
     "data": {
      "text/plain": [
       "solid system with T=100.000000, P=0.000000 in bcc lattice for mode fe"
      ]
     },
     "execution_count": 6,
     "metadata": {},
     "output_type": "execute_result"
    }
   ],
   "source": [
    "job"
   ]
  },
  {
   "cell_type": "markdown",
   "id": "threatened-desperate",
   "metadata": {},
   "source": [
    "The specifics of the calculation can be obtained by,"
   ]
  },
  {
   "cell_type": "code",
   "execution_count": 7,
   "id": "living-compromise",
   "metadata": {},
   "outputs": [
    {
     "data": {
      "text/plain": [
       "{'mode': 'fe',\n",
       " 'temperature': 100,\n",
       " 'pressure': 0,\n",
       " 'lattice': 'BCC',\n",
       " 'state': 'solid',\n",
       " 'temperature_stop': 100,\n",
       " 'nelements': 1,\n",
       " 'element': ['Fe'],\n",
       " 'lattice_constant': 2.8842,\n",
       " 'iso': True,\n",
       " 'fix_lattice': False,\n",
       " 'repeat': [5, 5, 5],\n",
       " 'nsims': 1,\n",
       " 'thigh': 200.0,\n",
       " 'directory': 'fe-BCC-100-0'}"
      ]
     },
     "execution_count": 7,
     "metadata": {},
     "output_type": "execute_result"
    }
   ],
   "source": [
    "job.calc"
   ]
  },
  {
   "cell_type": "markdown",
   "id": "posted-designation",
   "metadata": {},
   "source": [
    "These properties can also be accessed individually."
   ]
  },
  {
   "cell_type": "code",
   "execution_count": 9,
   "id": "scientific-induction",
   "metadata": {},
   "outputs": [
    {
     "data": {
      "text/plain": [
       "(100, 0, 'bcc')"
      ]
     },
     "execution_count": 9,
     "metadata": {},
     "output_type": "execute_result"
    }
   ],
   "source": [
    "job.t, job.p, job.l"
   ]
  },
  {
   "cell_type": "markdown",
   "id": "incident-better",
   "metadata": {},
   "source": [
    "Now finally the calculation can be run"
   ]
  },
  {
   "cell_type": "code",
   "execution_count": 8,
   "id": "thick-dover",
   "metadata": {},
   "outputs": [],
   "source": [
    "job = cq.run_calculation(job)"
   ]
  },
  {
   "cell_type": "markdown",
   "id": "antique-complex",
   "metadata": {},
   "source": [
    "The results can be obtained through the `report` variable"
   ]
  },
  {
   "cell_type": "code",
   "execution_count": 10,
   "id": "hawaiian-playing",
   "metadata": {},
   "outputs": [
    {
     "data": {
      "text/plain": [
       "{'input': {'temperature': 100,\n",
       "  'pressure': 0.0,\n",
       "  'lattice': 'bcc',\n",
       "  'element': 'Fe',\n",
       "  'concentration': '1'},\n",
       " 'average': {'vol/atom': 11.994752673986264, 'spring_constant': '3.35'},\n",
       " 'results': {'free_energy': -4.263447380763835,\n",
       "  'error': 0.0,\n",
       "  'reference_system': 0.01514568505240216,\n",
       "  'work': -4.278593065816237,\n",
       "  'pv': 0.0}}"
      ]
     },
     "execution_count": 10,
     "metadata": {},
     "output_type": "execute_result"
    }
   ],
   "source": [
    "job.report"
   ]
  },
  {
   "cell_type": "markdown",
   "id": "discrete-therapist",
   "metadata": {},
   "source": [
    "or individually as class attributes"
   ]
  },
  {
   "cell_type": "code",
   "execution_count": 11,
   "id": "behavioral-impression",
   "metadata": {},
   "outputs": [
    {
     "data": {
      "text/plain": [
       "(-4.263447380763835, -4.278593065816237, 0)"
      ]
     },
     "execution_count": 11,
     "metadata": {},
     "output_type": "execute_result"
    }
   ],
   "source": [
    "job.fe, job.w, job.pv"
   ]
  },
  {
   "cell_type": "markdown",
   "id": "systematic-shower",
   "metadata": {},
   "source": [
    "If more than one calculation is present, they should be run individually. For example, we use the `input2.yaml` file."
   ]
  },
  {
   "cell_type": "code",
   "execution_count": 13,
   "id": "monthly-recognition",
   "metadata": {},
   "outputs": [],
   "source": [
    "options = read_inputfile(\"input2.yaml\")"
   ]
  },
  {
   "cell_type": "markdown",
   "id": "framed-memorabilia",
   "metadata": {},
   "source": [
    "This input file has two structures: BCC and liquid. We can check the list of calculations"
   ]
  },
  {
   "cell_type": "code",
   "execution_count": 17,
   "id": "convenient-burton",
   "metadata": {},
   "outputs": [
    {
     "data": {
      "text/plain": [
       "2"
      ]
     },
     "execution_count": 17,
     "metadata": {},
     "output_type": "execute_result"
    }
   ],
   "source": [
    "len(options[\"calculations\"])"
   ]
  },
  {
   "cell_type": "markdown",
   "id": "handy-license",
   "metadata": {},
   "source": [
    "If you want to run the second calculation in the list, we have to set up the job as follows."
   ]
  },
  {
   "cell_type": "code",
   "execution_count": null,
   "id": "personalized-pursuit",
   "metadata": {},
   "outputs": [],
   "source": [
    "job = cq.setup_calculation(options, 1)"
   ]
  }
 ],
 "metadata": {
  "kernelspec": {
   "display_name": "calphy",
   "language": "python",
   "name": "calphy"
  },
  "language_info": {
   "codemirror_mode": {
    "name": "ipython",
    "version": 3
   },
   "file_extension": ".py",
   "mimetype": "text/x-python",
   "name": "python",
   "nbconvert_exporter": "python",
   "pygments_lexer": "ipython3",
   "version": "3.9.7"
  }
 },
 "nbformat": 4,
 "nbformat_minor": 5
}
