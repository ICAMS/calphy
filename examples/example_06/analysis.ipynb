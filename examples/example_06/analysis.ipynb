{
 "cells": [
  {
   "cell_type": "markdown",
   "id": "narrative-protection",
   "metadata": {},
   "source": [
    "# Example 06: Running `calphy` from jupyter notebooks\n",
    "\n",
    "In this example, `calphy` will be used as a library to run Example 01 directly from a jupyter notebook. Please check example 01 before completing this example. We start by import a function to read the input file."
   ]
  },
  {
   "cell_type": "code",
   "execution_count": 1,
   "id": "posted-sustainability",
   "metadata": {},
   "outputs": [],
   "source": [
    "from calphy.input import read_inputfile"
   ]
  },
  {
   "cell_type": "code",
   "execution_count": 2,
   "id": "extra-precipitation",
   "metadata": {},
   "outputs": [],
   "source": [
    "options = read_inputfile(\"input.1.yaml\")"
   ]
  },
  {
   "cell_type": "markdown",
   "id": "royal-vitamin",
   "metadata": {},
   "source": [
    "We can check the number of calculations present"
   ]
  },
  {
   "cell_type": "code",
   "execution_count": 3,
   "id": "stock-portuguese",
   "metadata": {},
   "outputs": [
    {
     "data": {
      "text/plain": [
       "1"
      ]
     },
     "execution_count": 3,
     "metadata": {},
     "output_type": "execute_result"
    }
   ],
   "source": [
    "len(options)"
   ]
  },
  {
   "cell_type": "markdown",
   "id": "electronic-looking",
   "metadata": {},
   "source": [
    "The individual methods that are required to run the calculation can be imported from the `queuekernel` module."
   ]
  },
  {
   "cell_type": "code",
   "execution_count": 4,
   "id": "worldwide-liverpool",
   "metadata": {},
   "outputs": [],
   "source": [
    "import calphy.queuekernel as cq "
   ]
  },
  {
   "cell_type": "markdown",
   "id": "caring-passing",
   "metadata": {},
   "source": [
    "First, we set up a class which prepares everything for the calculation. It takes one object from `options` as the argument."
   ]
  },
  {
   "cell_type": "code",
   "execution_count": 5,
   "id": "noble-measure",
   "metadata": {},
   "outputs": [],
   "source": [
    "job = cq.setup_calculation(options[0])"
   ]
  },
  {
   "cell_type": "code",
   "execution_count": 6,
   "id": "lonely-howard",
   "metadata": {},
   "outputs": [
    {
     "data": {
      "text/plain": [
       "Calculation(composition_scaling=CompositionScaling(output_chemical_composition=None, restrictions=[]), md=MD(timestep=0.001, n_small_steps=10000, n_every_steps=10, n_repeat_steps=10, n_cycles=100, thermostat_damping=[0.1, 0.1], barostat_damping=[0.1, 0.1], cmdargs=None, init_commands=None), nose_hoover=NoseHoover(thermostat_damping=0.1, barostat_damping=0.1), berendsen=Berendsen(thermostat_damping=100.0, barostat_damping=100.0), queue=Queue(scheduler='local', cores=4, jobname='calphy', walltime=None, queuename=None, memory='3GB', commands=['conda activate calphy'], options=None, modules=None), tolerance=Tolerance(lattice_constant=0.0002, spring_constant=0.1, solid_fraction=0.7, liquid_fraction=0.05, pressure=0.5), melting_temperature=MeltingTemperature(guess=None, step=200, attempts=5), element=['Fe'], n_elements=1, mass=[55.845], mode='fe', lattice='/mnt/c/Users/menon/Documents/winrepos/projects-calphy/calphy/examples/example_06/input.conf.data', file_format='lammps-data', pressure=0.0, temperature=100.0, melting_cycle=True, pair_style=['eam'], pair_coeff=['* * /mnt/c/Users/menon/Documents/winrepos/projects-calphy/calphy/examples/potentials/Fe.eam'], potential_file=None, fix_potential_path=True, reference_phase='solid', lattice_constant=2.8842, repeat=[5, 5, 5], script_mode=False, lammps_executable=None, mpi_executable=None, npt=True, n_equilibration_steps=10000, n_switching_steps=25000, n_print_steps=0, n_iterations=1, equilibration_control='nose-hoover', folder_prefix=None, spring_constants=None)"
      ]
     },
     "execution_count": 6,
     "metadata": {},
     "output_type": "execute_result"
    }
   ],
   "source": [
    "job"
   ]
  },
  {
   "cell_type": "markdown",
   "id": "posted-designation",
   "metadata": {},
   "source": [
    "These properties can also be accessed individually."
   ]
  },
  {
   "cell_type": "code",
   "execution_count": 9,
   "id": "scientific-induction",
   "metadata": {},
   "outputs": [
    {
     "data": {
      "text/plain": [
       "(100.0, 0.0)"
      ]
     },
     "execution_count": 9,
     "metadata": {},
     "output_type": "execute_result"
    }
   ],
   "source": [
    "job.calc.temperature, job.calc.pressure"
   ]
  },
  {
   "cell_type": "markdown",
   "id": "incident-better",
   "metadata": {},
   "source": [
    "Now finally the calculation can be run"
   ]
  },
  {
   "cell_type": "code",
   "execution_count": 8,
   "id": "thick-dover",
   "metadata": {},
   "outputs": [],
   "source": [
    "job = cq.run_calculation(job)"
   ]
  },
  {
   "cell_type": "markdown",
   "id": "antique-complex",
   "metadata": {},
   "source": [
    "The results can be obtained through the `report` variable"
   ]
  },
  {
   "cell_type": "code",
   "execution_count": 10,
   "id": "hawaiian-playing",
   "metadata": {},
   "outputs": [
    {
     "data": {
      "text/plain": [
       "{'input': {'temperature': 100,\n",
       "  'pressure': 0.0,\n",
       "  'lattice': 'BCC',\n",
       "  'element': 'Fe',\n",
       "  'concentration': '1.0'},\n",
       " 'average': {'vol_atom': 11.994275525217516,\n",
       "  'spring_constant': '3.03',\n",
       "  'density': 0.08337660890608233},\n",
       " 'results': {'free_energy': -4.263538447248216,\n",
       "  'error': 0.0,\n",
       "  'reference_system': 0.01385313501678647,\n",
       "  'work': -4.277391582265002,\n",
       "  'pv': 0.0,\n",
       "  'unit': 'eV/atom'}}"
      ]
     },
     "execution_count": 10,
     "metadata": {},
     "output_type": "execute_result"
    }
   ],
   "source": [
    "job.report"
   ]
  },
  {
   "cell_type": "markdown",
   "id": "discrete-therapist",
   "metadata": {},
   "source": [
    "or individually as class attributes"
   ]
  },
  {
   "cell_type": "code",
   "execution_count": 11,
   "id": "behavioral-impression",
   "metadata": {},
   "outputs": [
    {
     "data": {
      "text/plain": [
       "(-4.263538447248216, -4.277391582265002, 0)"
      ]
     },
     "execution_count": 11,
     "metadata": {},
     "output_type": "execute_result"
    }
   ],
   "source": [
    "job.fe, job.w, job.pv"
   ]
  },
  {
   "cell_type": "markdown",
   "id": "systematic-shower",
   "metadata": {},
   "source": [
    "If more than one calculation is present, they should be run individually."
   ]
  }
 ],
 "metadata": {
  "kernelspec": {
   "display_name": "calphy",
   "language": "python",
   "name": "calphy"
  },
  "language_info": {
   "codemirror_mode": {
    "name": "ipython",
    "version": 3
   },
   "file_extension": ".py",
   "mimetype": "text/x-python",
   "name": "python",
   "nbconvert_exporter": "python",
   "pygments_lexer": "ipython3",
   "version": "3.11.5"
  }
 },
 "nbformat": 4,
 "nbformat_minor": 5
}
