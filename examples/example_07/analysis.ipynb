{
 "cells": [
  {
   "cell_type": "markdown",
   "id": "organized-shakespeare",
   "metadata": {},
   "source": [
    "# Example 07: Upsampling calculations\n",
    "\n",
    "In this example,"
   ]
  },
  {
   "cell_type": "code",
   "execution_count": 1,
   "id": "satisfactory-kinase",
   "metadata": {},
   "outputs": [],
   "source": [
    "import yaml\n",
    "import numpy as np"
   ]
  },
  {
   "cell_type": "code",
   "execution_count": 13,
   "id": "alive-farming",
   "metadata": {},
   "outputs": [],
   "source": [
    "with open('alchemy-FCC-600-0/report.yaml', 'r') as fin:\n",
    "    alchemy = yaml.safe_load(fin)"
   ]
  },
  {
   "cell_type": "code",
   "execution_count": 14,
   "id": "gorgeous-sunglasses",
   "metadata": {},
   "outputs": [
    {
     "data": {
      "text/plain": [
       "-0.2544935936478223"
      ]
     },
     "execution_count": 14,
     "metadata": {},
     "output_type": "execute_result"
    }
   ],
   "source": [
    "alchemy['results']['free_energy']"
   ]
  },
  {
   "cell_type": "code",
   "execution_count": 5,
   "id": "conditional-colombia",
   "metadata": {},
   "outputs": [],
   "source": [
    "with open('pot1/fe-FCC-600-0/report.yaml', 'r') as fin:\n",
    "    pot1 = yaml.safe_load(fin)"
   ]
  },
  {
   "cell_type": "code",
   "execution_count": 6,
   "id": "established-vienna",
   "metadata": {},
   "outputs": [
    {
     "data": {
      "text/plain": [
       "-3.43894689000222"
      ]
     },
     "execution_count": 6,
     "metadata": {},
     "output_type": "execute_result"
    }
   ],
   "source": [
    "pot1['results']['free_energy']"
   ]
  },
  {
   "cell_type": "code",
   "execution_count": 7,
   "id": "opened-gates",
   "metadata": {},
   "outputs": [],
   "source": [
    "with open('pot2/fe-FCC-600-0/report.yaml', 'r') as fin:\n",
    "    pot2 = yaml.safe_load(fin)"
   ]
  },
  {
   "cell_type": "code",
   "execution_count": 8,
   "id": "differential-robert",
   "metadata": {},
   "outputs": [
    {
     "data": {
      "text/plain": [
       "-3.6942301262722053"
      ]
     },
     "execution_count": 8,
     "metadata": {},
     "output_type": "execute_result"
    }
   ],
   "source": [
    "pot2['results']['free_energy']"
   ]
  },
  {
   "cell_type": "code",
   "execution_count": 15,
   "id": "overall-desire",
   "metadata": {},
   "outputs": [
    {
     "data": {
      "text/plain": [
       "-3.6934404836500425"
      ]
     },
     "execution_count": 15,
     "metadata": {},
     "output_type": "execute_result"
    }
   ],
   "source": [
    "-3.43894689000222-0.2544935936478223"
   ]
  }
 ],
 "metadata": {
  "kernelspec": {
   "display_name": "calphy",
   "language": "python",
   "name": "calphy"
  },
  "language_info": {
   "codemirror_mode": {
    "name": "ipython",
    "version": 3
   },
   "file_extension": ".py",
   "mimetype": "text/x-python",
   "name": "python",
   "nbconvert_exporter": "python",
   "pygments_lexer": "ipython3",
   "version": "3.9.7"
  }
 },
 "nbformat": 4,
 "nbformat_minor": 5
}
