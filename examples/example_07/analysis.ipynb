{
 "cells": [
  {
   "cell_type": "markdown",
   "id": "organized-shakespeare",
   "metadata": {},
   "source": [
    "# Example 07: Upsampling calculations"
   ]
  },
  {
   "cell_type": "markdown",
   "id": "9dd01e04-93a1-4219-923f-08904414f558",
   "metadata": {},
   "source": [
    "In this example, upsampling calculations which can be used to switch a system between two different interatomic potentials is illustrated. \n",
    "\n",
    "The major change in the input file is that both `pair_style` and `pair_coeff` keywords have two arguments. These are the two potentials between which the transformation will be carried out.\n",
    "\n",
    "The first potential is a Finnis-Sinclair (FS) potential for copper:  \n",
    "\n",
    "[M.I. Mendelev, M.J. Kramer, C.A. Becker, and M. Asta (2008), \"Analysis of semi-empirical interatomic potentials appropriate for simulation of crystalline and liquid Al and Cu\", Philosophical Magazine, 88(12), 1723-1750.](https://doi.org/10.1080/14786430802206482)\n",
    "\n",
    "The second potential is an EAM:  \n",
    "\n",
    "[Mishin, Y., M. J. Mehl, D. A. Papaconstantopoulos, A. F. Voter, and J. D. Kress. “Structural Stability and Lattice Defects in Copper: Ab Initio , Tight-Binding, and Embedded-Atom Calculations.” Physical Review B 63, no. 22 (May 21, 2001): 224106.](https://doi.org/10.1103/PhysRevB.63.224106)  \n",
    "\n",
    "If we know the free energy of the FS potential at a given temperature, we can calculate the free energy of the EAM through upsampling calculations. Upsampling calculations generally need only much less switching time, thus is quite useful in the case of expensive interatomic potentials, such as machine learning potentials.\n",
    "\n",
    "We start by calculating the free energy of the FS potential. The input file is available at `pot1/input-fe.yaml`. As usual, the calculation can be run using `calphy -i input-fe.yaml`. We can now load the `report.yaml` file and check the free energy."
   ]
  },
  {
   "cell_type": "code",
   "execution_count": 1,
   "id": "satisfactory-kinase",
   "metadata": {},
   "outputs": [],
   "source": [
    "import yaml\n",
    "import numpy as np"
   ]
  },
  {
   "cell_type": "code",
   "execution_count": 2,
   "id": "conditional-colombia",
   "metadata": {},
   "outputs": [],
   "source": [
    "with open('pot1/fe-FCC-600-0/report.yaml', 'r') as fin:\n",
    "    pot1 = yaml.safe_load(fin)"
   ]
  },
  {
   "cell_type": "code",
   "execution_count": 3,
   "id": "established-vienna",
   "metadata": {},
   "outputs": [
    {
     "data": {
      "text/plain": [
       "-3.4389380251304913"
      ]
     },
     "execution_count": 3,
     "metadata": {},
     "output_type": "execute_result"
    }
   ],
   "source": [
    "pot1['results']['free_energy']"
   ]
  },
  {
   "cell_type": "markdown",
   "id": "5485eee8-5448-43b7-8376-22164d54a294",
   "metadata": {},
   "source": [
    "Now we can transform FS to EAM potential (see input file above). After running the calculation, we can check the free energy of this alchemical transformation."
   ]
  },
  {
   "cell_type": "code",
   "execution_count": 4,
   "id": "alive-farming",
   "metadata": {},
   "outputs": [],
   "source": [
    "with open('alchemy-FCC-600-0/report.yaml', 'r') as fin:\n",
    "    alchemy = yaml.safe_load(fin)"
   ]
  },
  {
   "cell_type": "code",
   "execution_count": 5,
   "id": "gorgeous-sunglasses",
   "metadata": {},
   "outputs": [
    {
     "data": {
      "text/plain": [
       "-0.25451608590151586"
      ]
     },
     "execution_count": 5,
     "metadata": {},
     "output_type": "execute_result"
    }
   ],
   "source": [
    "alchemy['results']['free_energy']"
   ]
  },
  {
   "cell_type": "markdown",
   "id": "0d933ab0-bb82-4dcd-b307-03fd8e062c74",
   "metadata": {},
   "source": [
    "The free energy of the EAM potential, $F_\\mathrm{EAM} = F_\\mathrm{FS} + F_\\mathrm{upsampling}$"
   ]
  },
  {
   "cell_type": "code",
   "execution_count": 6,
   "id": "ec362ea8-cc19-4ff9-9462-d2335fdece19",
   "metadata": {},
   "outputs": [
    {
     "data": {
      "text/plain": [
       "-3.693454111032007"
      ]
     },
     "execution_count": 6,
     "metadata": {},
     "output_type": "execute_result"
    }
   ],
   "source": [
    "pot1['results']['free_energy']+alchemy['results']['free_energy']"
   ]
  },
  {
   "cell_type": "markdown",
   "id": "51730d0f-d51c-495d-8c0d-8600f8034410",
   "metadata": {},
   "source": [
    "We can verify this calculation by directly computing the free energy of the EAM potential. The input file is available at `pot2/input-fe.yaml`. "
   ]
  },
  {
   "cell_type": "code",
   "execution_count": 7,
   "id": "opened-gates",
   "metadata": {},
   "outputs": [],
   "source": [
    "with open('pot2/fe-FCC-600-0/report.yaml', 'r') as fin:\n",
    "    pot2 = yaml.safe_load(fin)"
   ]
  },
  {
   "cell_type": "code",
   "execution_count": 8,
   "id": "differential-robert",
   "metadata": {},
   "outputs": [
    {
     "data": {
      "text/plain": [
       "-3.6923377327832667"
      ]
     },
     "execution_count": 8,
     "metadata": {},
     "output_type": "execute_result"
    }
   ],
   "source": [
    "pot2['results']['free_energy']"
   ]
  },
  {
   "cell_type": "markdown",
   "id": "d79e509b-f0ac-4900-b5e3-18a343e7030d",
   "metadata": {},
   "source": [
    "We can see that the directly calculation is in meV agreement with the upsampling calculations."
   ]
  }
 ],
 "metadata": {
  "kernelspec": {
   "display_name": "Python 3 (ipykernel)",
   "language": "python",
   "name": "python3"
  },
  "language_info": {
   "codemirror_mode": {
    "name": "ipython",
    "version": 3
   },
   "file_extension": ".py",
   "mimetype": "text/x-python",
   "name": "python",
   "nbconvert_exporter": "python",
   "pygments_lexer": "ipython3",
   "version": "3.10.6"
  }
 },
 "nbformat": 4,
 "nbformat_minor": 5
}
