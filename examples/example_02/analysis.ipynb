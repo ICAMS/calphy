{
 "cells": [
  {
   "cell_type": "markdown",
   "id": "african-indianapolis",
   "metadata": {},
   "source": [
    "# Example 02: Phase transformation in Fe"
   ]
  },
  {
   "cell_type": "markdown",
   "id": "enabling-salvation",
   "metadata": {},
   "source": [
    "In this example, we will make use of the temperature sweep algorithm in `calphy` to calculate the transformation temperature for BCC to FCC transition in Fe.\n",
    "\n",
    "The EAM potential that will be used: [Meyer, R, and P Entel. “Martensite-austenite transition and phonon dispersion curves of Fe1−xNix studied by molecular-dynamics simulations.” Phys. Rev. B 57, 5140.](https://doi.org/10.1103/PhysRevB.57.5140)\n",
    "\n",
    "The reference data is from: [Freitas, Rodrigo, Mark Asta, and Maurice de Koning. “Nonequilibrium Free-Energy Calculation of Solids Using LAMMPS.” Computational Materials Science 112 (February 2016): 333–41.](https://doi.org/10.1016/j.commatsci.2015.10.050)\n",
    "\n",
    "The [input file](input.yaml) a is provided in the folder. The calculation can be started from the terminal using:\n",
    "\n",
    "```\n",
    "calphy -i input.yaml\n",
    "```\n",
    "\n",
    "In the input file, the `calculations` block is as shown below:\n",
    "\n",
    "```\n",
    "calculations:\n",
    "- element: Fe\n",
    "  lattice: BCC\n",
    "  lattice_constant: 0.0\n",
    "  mass: 55.845\n",
    "  md:\n",
    "    barostat_damping: 0.1\n",
    "    equilibration_control: nose_hoover\n",
    "    thermostat_damping: 0.1\n",
    "    timestep: 0.001\n",
    "  mode: ts\n",
    "  n_equilibration_steps: 10000\n",
    "  n_iterations: 1\n",
    "  n_switching_steps: 25000\n",
    "  pair_coeff: '* * ../potentials/Fe.eam'\n",
    "  pair_style: eam\n",
    "  pressure: 0.0\n",
    "  queue:\n",
    "    commands:\n",
    "    - conda activate calphy\n",
    "    cores: 4\n",
    "    scheduler: local\n",
    "  reference_phase: solid\n",
    "  repeat:\n",
    "  - 5\n",
    "  - 5\n",
    "  - 5\n",
    "  temperature:\n",
    "  - 100.0\n",
    "  - 1400.0\n",
    "- element: Fe\n",
    "  lattice: FCC\n",
    "  lattice_constant: 6.0\n",
    "  mass: 55.845\n",
    "  md:\n",
    "    barostat_damping: 0.1\n",
    "    equilibration_control: nose_hoover\n",
    "    thermostat_damping: 0.1\n",
    "    timestep: 0.001\n",
    "  mode: ts\n",
    "  n_equilibration_steps: 10000\n",
    "  n_iterations: 1\n",
    "  n_switching_steps: 25000\n",
    "  pair_coeff: '* * ../potentials/Fe.eam'\n",
    "  pair_style: eam\n",
    "  pressure: 0.0\n",
    "  queue:\n",
    "    commands:\n",
    "    - conda activate calphy\n",
    "    cores: 4\n",
    "    scheduler: local\n",
    "  reference_phase: solid\n",
    "  repeat:\n",
    "  - 5\n",
    "  - 5\n",
    "  - 5\n",
    "  temperature:\n",
    "  - 100.0\n",
    "  - 1400.0\n",
    "```\n",
    "\n",
    "The mode is listed as `ts`, which stands for temperature sweep. The sweep starts from the first value in the `temperature` option, which is 100 K. The free energy is integrated until 1400 K, which is the second value listed. Furthermore, there are also two calculation blocks. You can see that the `lattice` mentioned is different; one set is for BCC structure, while the other is FCC.\n",
    "\n",
    "Once the calculation is over, there will a file called `temperature_sweep.dat` in each of the folders. This file indicates the variation of free energy with the temperature. We can read in the files and calculate the transition temperature as follows:"
   ]
  },
  {
   "cell_type": "code",
   "execution_count": 1,
   "id": "developmental-giant",
   "metadata": {},
   "outputs": [],
   "source": [
    "import numpy as np\n",
    "import matplotlib.pyplot as plt"
   ]
  },
  {
   "cell_type": "code",
   "execution_count": 2,
   "id": "useful-tactics",
   "metadata": {},
   "outputs": [
    {
     "name": "stdout",
     "output_type": "stream",
     "text": [
      "508.07011498303046 K\n"
     ]
    }
   ],
   "source": [
    "bt, bfe, bferr = np.loadtxt(\"ts-bcc-solid-100-0/temperature_sweep.dat\", unpack=True)\n",
    "ft, ffe, fferr = np.loadtxt(\"ts-fcc-solid-100-0/temperature_sweep.dat\", unpack=True)\n",
    "\n",
    "args = np.argsort(np.abs(bfe-ffe))\n",
    "print(bt[args[0]], \"K\")"
   ]
  },
  {
   "cell_type": "code",
   "execution_count": 3,
   "id": "general-forth",
   "metadata": {},
   "outputs": [
    {
     "data": {
      "image/png": "[encoded data removed]",
      "text/plain": [
       "<Figure size 432x288 with 1 Axes>"
      ]
     },
     "metadata": {
      "needs_background": "light"
     },
     "output_type": "display_data"
    }
   ],
   "source": [
    "plt.plot(bt, bfe, color=\"#E53935\", label=\"bcc\")\n",
    "plt.plot(ft, ffe, color=\"#0097A7\", label=\"fcc\")\n",
    "plt.xlabel(\"Temperature (K)\", fontsize=12)\n",
    "plt.ylabel(\"F (ev/atom)\", fontsize=12)\n",
    "plt.legend()\n",
    "plt.savefig(\"fe_transition.png\", dpi=300, bbox_inches=\"tight\")"
   ]
  },
  {
   "cell_type": "code",
   "execution_count": null,
   "id": "a5ce874e-7363-4567-a13c-c6314f2882c1",
   "metadata": {},
   "outputs": [],
   "source": []
  }
 ],
 "metadata": {
  "kernelspec": {
   "display_name": "calphy",
   "language": "python",
   "name": "calphy"
  },
  "language_info": {
   "codemirror_mode": {
    "name": "ipython",
    "version": 3
   },
   "file_extension": ".py",
   "mimetype": "text/x-python",
   "name": "python",
   "nbconvert_exporter": "python",
   "pygments_lexer": "ipython3",
   "version": "3.11.5"
  }
 },
 "nbformat": 4,
 "nbformat_minor": 5
}
