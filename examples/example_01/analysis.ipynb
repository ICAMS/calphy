{
 "cells": [
  {
   "cell_type": "markdown",
   "id": "literary-buffalo",
   "metadata": {},
   "source": [
    "# Example 01: Calculation of free energy"
   ]
  },
  {
   "cell_type": "markdown",
   "id": "steady-fossil",
   "metadata": {},
   "source": [
    " In this example, a simple calculation of the Helmholtz free energy $F(NVT)$ is illustrated. We use a Fe BCC structure at 100K.\n",
    "\n",
    "The EAM potential that will be used: [Meyer, R, and P Entel. “Martensite-austenite transition and phonon dispersion curves of Fe1−xNix studied by molecular-dynamics simulations.” Phys. Rev. B 57, 5140.](https://doi.org/10.1103/PhysRevB.57.5140)\n",
    "\n",
    "The reference data is from: [Freitas, Rodrigo, Mark Asta, and Maurice de Koning. “Nonequilibrium Free-Energy Calculation of Solids Using LAMMPS.” Computational Materials Science 112 (February 2016): 333–41.](https://doi.org/10.1016/j.commatsci.2015.10.050)\n",
    "\n",
    "## Solid free energy\n",
    "\n",
    "The [input file](input.yaml) for calculation of solid BCC Fe at 100 K is provided in the folder. A detailed description of the input file is available [here](../inputfile.md). The calculation can be started from the terminal using:\n",
    "\n",
    "```\n",
    "calphy -i input.yaml\n",
    "```\n",
    "\n",
    "This should give a message:\n",
    "\n",
    "```\n",
    "Total number of 1 calculations found\n",
    "```\n",
    "\n",
    "`calphy` is running in the background executing the calculation. A new folder called `fe-bcc-solid-100-0`, and files called `fe-bcc-100-solid-0.sub.err` and `fe-bcc-solid-100-0.sub.out` will also be created. \n",
    "\n",
    "After the calculation is over, the results are available in the `report.yaml` file. The file is shown below:\n",
    "\n",
    "```\n",
    "average:\n",
    "  density: 0.08337660890608233\n",
    "  spring_constant: '3.28'\n",
    "  vol_atom: 11.99414235031551\n",
    "input:\n",
    "  concentration: '1.0'\n",
    "  element: Fe\n",
    "  lattice: BCC\n",
    "  pressure: 0.0\n",
    "  temperature: 100\n",
    "results:\n",
    "  error: 0.0\n",
    "  free_energy: -4.263489224907735\n",
    "  pv: 0.0\n",
    "  reference_system: 0.014873819531664851\n",
    "  unit: eV/atom\n",
    "  work: -4.278363044439399\n",
    "```\n",
    "\n",
    "The calculated free energy is $-4.2635$ eV/atom, the value reported in the publication is $-4.2631147(1)$ eV/atom. The calculated value can be further improved by increasing the system size, and by increasing the switching time. "
   ]
  }
 ],
 "metadata": {
  "kernelspec": {
   "display_name": "calphy",
   "language": "python",
   "name": "calphy"
  },
  "language_info": {
   "codemirror_mode": {
    "name": "ipython",
    "version": 3
   },
   "file_extension": ".py",
   "mimetype": "text/x-python",
   "name": "python",
   "nbconvert_exporter": "python",
   "pygments_lexer": "ipython3",
   "version": "3.11.5"
  }
 },
 "nbformat": 4,
 "nbformat_minor": 5
}
