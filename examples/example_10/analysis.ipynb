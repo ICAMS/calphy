{
 "cells": [
  {
   "cell_type": "markdown",
   "id": "1b0613c5-5671-4340-b3b4-51ae7d8e925d",
   "metadata": {},
   "source": [
    "# Example 10: Composition scaling"
   ]
  },
  {
   "cell_type": "markdown",
   "id": "31133816",
   "metadata": {
    "jp-MarkdownHeadingCollapsed": true,
    "tags": []
   },
   "source": [
    "In this notebook, we will calculate the free energy of a binary ZrCu system as a function of the composition. The structure that will be considered is ZrCu with a B2 structure. The potential that will be used is-\n",
    "\n",
    "[M.I. Mendelev , M.J. Kramer , R.T. Ott , D.J. Sordelet , D. Yagodin & P. Popel (2009) Development of suitable interatomic potentials for simulation of liquid and amorphous Cu–Zr alloys, Philosophical Magazine, 89:11, 967-987](http://dx.doi.org/10.1080/14786430902832773)\n",
    "\n",
    "We specify the mode as `composition_scaling` in the input file. The input file has a new section:\n",
    "\n",
    "```\n",
    "composition_scaling:\n",
    "  input_chemical_composition:\n",
    "     - Cu: 512\n",
    "     - Zr: 512\n",
    "  output_chemical_composition:\n",
    "     - Cu: 532\n",
    "     - Zr: 492\n",
    "```\n",
    "\n",
    "which provides the details for composition change. The `input_chemical_composition` shows equal number of Cu and Zr atoms as expected in the B2 structure. The `output_chemical_composition` has 532 Cu and 492 Zr atoms, which amounts to 48 at. % Zr. The composition integration therefore will span 48-50% of Zr.\n",
    "\n",
    "As usual, the calculation can be run by:\n",
    "\n",
    "```\n",
    "calphy -i input.yaml\n",
    "```\n",
    "\n",
    "Once the calculation is run, there is a file `composition_scaling.dat` created in the simulation folder. We can read in this file, to get the information. There are a number of columns in the file, but we will just use the first two."
   ]
  },
  {
   "cell_type": "code",
   "execution_count": 1,
   "id": "48d15362-3fdf-43bd-84ca-851c30b68da5",
   "metadata": {},
   "outputs": [],
   "source": [
    "import numpy as np\n",
    "import matplotlib.pyplot as plt\n",
    "from calphy.input import read_report"
   ]
  },
  {
   "cell_type": "code",
   "execution_count": 7,
   "id": "b10bc8f8-1b90-4767-a898-ad85bb2d3eb8",
   "metadata": {},
   "outputs": [],
   "source": [
    "fe_ref_direct = read_report(\"fe-ZrCu.dump-800-0\")\n",
    "fe_sub_direct = read_report(\"fe-ZrCu_substitution.dump-800-0\")"
   ]
  },
  {
   "cell_type": "code",
   "execution_count": 8,
   "id": "476a6026-b44c-4ce8-b055-97bb07a2c465",
   "metadata": {},
   "outputs": [
    {
     "data": {
      "text/plain": [
       "-0.003122706854647106"
      ]
     },
     "execution_count": 8,
     "metadata": {},
     "output_type": "execute_result"
    }
   ],
   "source": [
    "fe_ref_direct[\"results\"][\"free_energy\"] - fe_sub_direct[\"results\"][\"free_energy\"]"
   ]
  },
  {
   "cell_type": "code",
   "execution_count": 11,
   "id": "6633d120-1d07-4ae6-91bd-27c2ea16804a",
   "metadata": {},
   "outputs": [],
   "source": [
    "fe_sub_trf = read_report(\"sub-composition_scaling-ZrCu.dump-800-0\")"
   ]
  },
  {
   "cell_type": "code",
   "execution_count": 12,
   "id": "a138085b-a32f-408a-a0e6-c71006fd3a30",
   "metadata": {},
   "outputs": [
    {
     "data": {
      "text/plain": [
       "0.003776726711251715"
      ]
     },
     "execution_count": 12,
     "metadata": {},
     "output_type": "execute_result"
    }
   ],
   "source": [
    "fe_sub_trf[\"results\"][\"free_energy\"]"
   ]
  },
  {
   "cell_type": "code",
   "execution_count": 2,
   "id": "b430d8a6-9da6-4245-b151-7c064ca41909",
   "metadata": {},
   "outputs": [],
   "source": [
    "flambda_arr, netfe = np.loadtxt(\"composition_scaling-ZrCu.dump-800-0/composition_sweep.dat\", unpack=True,\n",
    "                               usecols=(0,1))"
   ]
  },
  {
   "cell_type": "markdown",
   "id": "d5599993-ed20-4e86-afd9-85111d0f196c",
   "metadata": {},
   "source": [
    "The first column, `flambda_arr` goes from 1.00 to 0.00. This spans the composition interval. At 1.00, the composition is 50 % Zr, while at 0.00, the composition is 48 %. First, the array is converted to the actual composition."
   ]
  },
  {
   "cell_type": "code",
   "execution_count": 3,
   "id": "c57c37f3-2563-421b-9c7c-1d0767b817fa",
   "metadata": {},
   "outputs": [],
   "source": [
    "comp = 0.50-flambda_arr*(0.50-0.48)"
   ]
  },
  {
   "cell_type": "markdown",
   "id": "5daf0435-b60c-4197-a3a1-05b3a81e4d1b",
   "metadata": {},
   "source": [
    "To compare our results, we will use the data from this publication:\n",
    "\n",
    "[Tang, C, and Peter Harrowell. “Predicting the Solid State Phase Diagram for Glass-Forming Alloys of Copper and Zirconium.” Journal of Physics: Condensed Matter 24, no. 24 (June 20, 2012): 245102.](https://doi.org/10.1088/0953-8984/24/24/245102)"
   ]
  },
  {
   "cell_type": "code",
   "execution_count": 4,
   "id": "3810bf00-f36e-4da7-8dee-253d12bdf0b6",
   "metadata": {},
   "outputs": [],
   "source": [
    "comp_reference = np.array([0.4810, 0.4913, 0.5])\n",
    "fe_reference = np.array([-5.27, -5.31, -5.34])"
   ]
  },
  {
   "cell_type": "markdown",
   "id": "7bbc6196-dbef-47e4-9268-aa66953332a7",
   "metadata": {},
   "source": [
    "We will also use direct calculations done using calphy. The results from direct calculations are given here for easiness."
   ]
  },
  {
   "cell_type": "code",
   "execution_count": 5,
   "id": "54710468-f710-4bc9-b010-f07ee59b3978",
   "metadata": {},
   "outputs": [],
   "source": [
    "comp_direct = np.array([0.48, 0.49, 0.50])\n",
    "fe_direct = np.array([-5.271, -5.311, -5.350])"
   ]
  },
  {
   "cell_type": "markdown",
   "id": "13ae27bc-3a31-4e9e-ae3c-52efe935816e",
   "metadata": {},
   "source": [
    "Note that our results, `netfe` only includes the free energy difference as composition change. We will modify the other calculations to plot the energy difference."
   ]
  },
  {
   "cell_type": "code",
   "execution_count": 7,
   "id": "0a890009-bc3c-4dd4-977f-4dc156b41dbc",
   "metadata": {},
   "outputs": [
    {
     "data": {
      "image/png": "[encoded data removed]",
      "text/plain": [
       "<Figure size 432x288 with 1 Axes>"
      ]
     },
     "metadata": {
      "needs_background": "light"
     },
     "output_type": "display_data"
    }
   ],
   "source": [
    "plt.plot(comp, netfe, label=\"Comp scaling\")\n",
    "plt.plot(comp_reference, fe_reference[0]-fe_reference, \"o\", label=\"reference\")\n",
    "plt.plot(comp_direct, fe_direct[0]-fe_direct, \"o\", label=\"Direct\")\n",
    "plt.legend()\n",
    "plt.xlabel(\"At. % Zr\")\n",
    "plt.ylabel(r\"$ \\Delta F $(eV/atom)\");"
   ]
  },
  {
   "cell_type": "markdown",
   "id": "1107e334-372f-4336-9fb7-edd707b458b5",
   "metadata": {},
   "source": [
    "As seen from the plot, we have excellent agreement. However, we can obtain the whole range from a single calculation."
   ]
  },
  {
   "cell_type": "code",
   "execution_count": null,
   "id": "de0b31d3-b01f-454a-9266-0b6b2ec457cc",
   "metadata": {},
   "outputs": [],
   "source": []
  }
 ],
 "metadata": {
  "kernelspec": {
   "display_name": "Python 3 (ipykernel)",
   "language": "python",
   "name": "python3"
  },
  "language_info": {
   "codemirror_mode": {
    "name": "ipython",
    "version": 3
   },
   "file_extension": ".py",
   "mimetype": "text/x-python",
   "name": "python",
   "nbconvert_exporter": "python",
   "pygments_lexer": "ipython3",
   "version": "3.10.5"
  }
 },
 "nbformat": 4,
 "nbformat_minor": 5
}
