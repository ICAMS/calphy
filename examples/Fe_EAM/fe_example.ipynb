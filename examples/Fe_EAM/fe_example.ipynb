{
 "cells": [
  {
   "cell_type": "markdown",
   "id": "bored-advocate",
   "metadata": {},
   "source": [
    "# EAM Iron\n",
    "\n",
    "In this notebook, we will look at two different examples: The free energy of Fe BCC structure at 100K, and the transformation temperature for Fe from BCC to FCC.\n",
    "\n",
    "The EAM potential that will be used: [Meyer, R, and P Entel. “Martensite-austenite transition and phonon dispersion curves of Fe1−xNix studied by molecular-dynamics simulations.” Phys. Rev. B 57, 5140.](https://doi.org/10.1103/PhysRevB.57.5140)\n",
    "\n",
    "The reference data is from: [Freitas, Rodrigo, Mark Asta, and Maurice de Koning. “Nonequilibrium Free-Energy Calculation of Solids Using LAMMPS.” Computational Materials Science 112 (February 2016): 333–41.](https://doi.org/10.1016/j.commatsci.2015.10.050)"
   ]
  },
  {
   "cell_type": "markdown",
   "id": "considered-switzerland",
   "metadata": {},
   "source": [
    "## Solid free energy\n",
    "\n",
    "The input file for calculation of solid BCC Fe at 100 K is given below:\n",
    "\n",
    "```\n",
    "element: Fe\n",
    "mass: 55.845\n",
    "calculations:\n",
    "- mode: fe \n",
    "  temperature: [100]\n",
    "  pressure: [0]\n",
    "  lattice: [BCC]\n",
    "  repeat: [13, 13, 13]\n",
    "  state: [solid]\n",
    "  nsims: 3\n",
    "\n",
    "md:\n",
    "  pair_style: eam\n",
    "  pair_coeff: \"* * /home/users/menonsqr/Repos/pytint/examples/Fe_EAM/Fe.eam\"\n",
    "  timestep: 0.001\n",
    "  nsmall: 10000\n",
    "  tdamp: 0.1\n",
    "  pdamp: 0.1\n",
    "  te: 25000\n",
    "  ts: 50000\n",
    "  \n",
    "queue:\n",
    "  scheduler: local\n",
    "  cores: 28\n",
    "  commands:\n",
    "    - conda activate py3\n",
    "```\n",
    "\n",
    "The calculation can be run by,\n",
    "```\n",
    "cd free_energy\n",
    "tint -i input.yaml\n",
    "```"
   ]
  },
  {
   "cell_type": "markdown",
   "id": "prostate-conducting",
   "metadata": {},
   "source": [
    "After the calculation is over, the results are available in the `report.yaml` file. The file is shown below:\n",
    "\n",
    "```\n",
    "average:\n",
    "  spring_constant: '3.02'\n",
    "  vol/atom: 11.99459505071913\n",
    "input:\n",
    "  concentration: '1'\n",
    "  element: Fe\n",
    "  lattice: bcc\n",
    "  pressure: 0.0\n",
    "  temperature: 100\n",
    "results:\n",
    "  error: 8.79512327375223e-06\n",
    "  free_energy: -4.263121166664903\n",
    "  pv: 0.0\n",
    "  reference_system: 0.014348234962822937\n",
    "  work: -4.277469401627726\n",
    "```\n",
    "\n",
    "The calculated free energy is $-4.26312(9)$ eV/atom, the value reported in the publication is $-4.2631147(1)$ eV/atom.   "
   ]
  },
  {
   "cell_type": "markdown",
   "id": "protective-forge",
   "metadata": {},
   "source": [
    "## BCC-FCC phase transformation in Fe\n",
    "\n",
    "The input file for the required calculation is given below:\n",
    "\n",
    "```\n",
    "element: Fe\n",
    "mass: 55.845\n",
    "calculations:\n",
    "- mode: ts\n",
    "  temperature: [100, 1400]\n",
    "  pressure: [0]\n",
    "  lattice: [BCC]\n",
    "  repeat: [13, 13, 13]\n",
    "  state: [solid]\n",
    "  nsims: 1\n",
    "- mode: ts\n",
    "  temperature: [100, 1400]\n",
    "  pressure: [0]\n",
    "  lattice: [FCC]\n",
    "  repeat: [10, 10, 10]\n",
    "  state: [solid]\n",
    "  nsims: 1\n",
    "  lattice_constant: [6.00]\n",
    "\n",
    "\n",
    "md:\n",
    "  pair_style: eam\n",
    "  pair_coeff: \"* * /home/users/menonsqr/Repos/pytint/examples/Fe_EAM/Fe.eam\"\n",
    "  timestep: 0.001\n",
    "  nsmall: 10000\n",
    "  tdamp: 0.1\n",
    "  pdamp: 0.1\n",
    "  te: 25000\n",
    "  ts: 50000\n",
    "\n",
    "queue:\n",
    "  scheduler: local\n",
    "  cores: 14\n",
    "  commands:\n",
    "    - conda activate py3\n",
    "```\n",
    "\n",
    "After the calculations are finished, the files can be read in."
   ]
  },
  {
   "cell_type": "code",
   "execution_count": 1,
   "id": "herbal-fellowship",
   "metadata": {},
   "outputs": [],
   "source": [
    "import numpy as np\n",
    "import matplotlib.pyplot as plt"
   ]
  },
  {
   "cell_type": "code",
   "execution_count": 2,
   "id": "direct-cardiff",
   "metadata": {},
   "outputs": [],
   "source": [
    "bt, bfe, bferr = np.loadtxt(\"phase_transformation/ts-BCC-100-0/temperature_sweep.dat\", unpack=True)\n",
    "ft, ffe, fferr = np.loadtxt(\"phase_transformation/ts-FCC-100-0/temperature_sweep.dat\", unpack=True)"
   ]
  },
  {
   "cell_type": "code",
   "execution_count": 3,
   "id": "innocent-mandate",
   "metadata": {},
   "outputs": [
    {
     "data": {
      "text/plain": [
       "<matplotlib.legend.Legend at 0x7f4ef7c7b650>"
      ]
     },
     "execution_count": 3,
     "metadata": {},
     "output_type": "execute_result"
    },
    {
     "data": {
      "image/png": "[encoded data removed]",
      "text/plain": [
       "<Figure size 432x288 with 1 Axes>"
      ]
     },
     "metadata": {
      "needs_background": "light"
     },
     "output_type": "display_data"
    }
   ],
   "source": [
    "plt.plot(bt, bfe, color=\"#E53935\", label=\"bcc\")\n",
    "plt.plot(ft, ffe, color=\"#0097A7\", label=\"fcc\")\n",
    "plt.xlabel(\"Temperature (K)\", fontsize=12)\n",
    "plt.ylabel(\"F (ev/atom)\", fontsize=12)\n",
    "plt.legend()"
   ]
  },
  {
   "cell_type": "markdown",
   "id": "supposed-balloon",
   "metadata": {},
   "source": [
    "The free energy curves cross around 500K. We can check the exact temperature."
   ]
  },
  {
   "cell_type": "code",
   "execution_count": 5,
   "id": "going-wholesale",
   "metadata": {},
   "outputs": [
    {
     "name": "stdout",
     "output_type": "stream",
     "text": [
      "485.96850434196733 K\n"
     ]
    }
   ],
   "source": [
    "args = np.argsort(np.abs(bfe-ffe))\n",
    "print(bt[args[0]], \"K\")"
   ]
  },
  {
   "cell_type": "markdown",
   "id": "contained-carpet",
   "metadata": {},
   "source": [
    "The phase transformation occurs at 486 K. This is 2.5 times lower than the experimental values, but is in good agreement with the reference data (487 K)."
   ]
  }
 ],
 "metadata": {
  "kernelspec": {
   "display_name": "py3",
   "language": "python",
   "name": "py3"
  },
  "language_info": {
   "codemirror_mode": {
    "name": "ipython",
    "version": 3
   },
   "file_extension": ".py",
   "mimetype": "text/x-python",
   "name": "python",
   "nbconvert_exporter": "python",
   "pygments_lexer": "ipython3",
   "version": "3.7.9"
  }
 },
 "nbformat": 4,
 "nbformat_minor": 5
}
