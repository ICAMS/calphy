{
 "cells": [
  {
   "cell_type": "markdown",
   "id": "cubic-accountability",
   "metadata": {},
   "source": [
    "# EAM Copper\n",
    "\n",
    "In notebook, we will look at two different examples: calculation of melting temperature of Cu, and the temperature-pressure phase diagram of copper. \n",
    "\n",
    "The EAM potential we will use is : [Mishin, Y., M. J. Mehl, D. A. Papaconstantopoulos, A. F. Voter, and J. D. Kress. “Structural Stability and Lattice Defects in Copper: Ab Initio , Tight-Binding, and Embedded-Atom Calculations.” Physical Review B 63, no. 22 (May 21, 2001): 224106.](https://doi.org/10.1103/PhysRevB.63.224106)\n",
    "\n",
    "## Melting temperature\n",
    "\n",
    "The input files required to calculate the melting temperature at zero pressure is given in the folder `melting_temperature`. The input file is shown here-\n",
    "\n",
    "```\n",
    "element: 'Cu'\n",
    "mass: 63.546\n",
    "calculations:\n",
    "- mode: ts \n",
    "  temperature: [1200, 1400]\n",
    "  pressure: [0]\n",
    "  lattice: [FCC, LQD]\n",
    "  repeat: [7, 7, 7]\n",
    "  state: [solid, liquid]\n",
    "  nsims: 1\n",
    "\n",
    "md:\n",
    "  pair_style: eam/alloy\n",
    "  pair_coeff: \"* * /home/examples/Cu_EAM/Cu01.eam.alloy Cu\"\n",
    "  timestep: 0.001\n",
    "  nsmall: 10000\n",
    "  tdamp: 0.1\n",
    "  pdamp: 0.1\n",
    "  te: 25000\n",
    "  ts: 50000\n",
    "  \n",
    "queue:\n",
    "  scheduler: local\n",
    "  cores: 14\n",
    "  commands:\n",
    "    - conda activate py3\n",
    "```\n",
    "\n",
    "The calculation block gives the input conditions at which the calculation is carried out. First of all, the `mode` is `ts`, a temperature sweep over the temperature range given in the `temperature` keyword will be done. `FCC` and `LQD` lattice are chosen, the former for `solid` and the latter for `liquid`. The potential file is specified in `pair_coeff` command in the `md` block. Please note that the absolute path of the potential file has to be provided. \n",
    "\n",
    "The calculation can be run by,\n",
    "```\n",
    "cd melting_temperature\n",
    "tint -i input.yaml\n",
    "```\n",
    "Once submitted, it should give a message `Total number of 2 calculations found`. It will also create a set of folders with the names `mode-lattice-temperature-pressure`. In this case, there will be `ts-FCC-1200-0` and `ts-LQD-1200-0`. If there are any errors in the calculation, it will be recoreded in `ts-FCC-1200-0.sub.err` and `ts-LQD-1200-0.sub.err`. Once the calculation starts, a log file called `tint.log` will be created in the aforementioned folders. For example, the `tint.log` file in `ts-FCC-1200-0` is shown below:\n",
    "\n",
    "```\n",
    "2021-02-13 14:58:37,853 pytint.helpers INFO     At count 1 mean pressure is 1.195624 with 12.628737 vol/atom\n",
    "2021-02-13 14:58:44,188 pytint.helpers INFO     At count 2 mean pressure is -0.377718 with 12.629433 vol/atom\n",
    "2021-02-13 14:58:44,188 pytint.helpers INFO     finalized vol/atom 12.629433 at pressure -0.377718\n",
    "2021-02-13 14:58:44,188 pytint.helpers INFO     Avg box dimensions x: 25.877000, y: 25.877000, z:25.877000\n",
    "2021-02-13 14:58:50,588 pytint.helpers INFO     At count 1 mean k is 1.294586 std is 0.050296\n",
    "2021-02-13 14:58:56,471 pytint.helpers INFO     At count 2 mean k is 1.312711 std is 0.044848\n",
    "2021-02-13 14:58:56,472 pytint.helpers INFO     finalized sprint constants\n",
    "2021-02-13 14:58:56,472 pytint.helpers INFO     [1.31]\n",
    "```\n",
    "\n",
    "The file gives some information about the preparation stage. It can be seen that at loop 2, the pressure is converged and very close to the 0 value we specified in the input file. After the pressure is converged, box dimensions are fixed, and the spring constants for the Einstein crystal are calculated.  \n",
    "\n",
    "The `ts` mode consists of two stages, the first step is the calculation of free energy at 1300 K, followed by a sweep until 1400 K. The results of the free energy calculation is recorded in `report.yaml` file. The file is shown below:\n",
    "\n",
    "```\n",
    "average:\n",
    "  spring_constant: '1.31'\n",
    "  vol/atom: 12.62943343337578\n",
    "input:\n",
    "  concentration: '1'\n",
    "  element: Cu\n",
    "  lattice: fcc\n",
    "  pressure: 0.0\n",
    "  temperature: 1200\n",
    "results:\n",
    "  error: 0.0\n",
    "  free_energy: -4.071022164568864\n",
    "  pv: 0.0\n",
    "  reference_system: -0.7488816028733712\n",
    "  work: -3.3221405616954924\n",
    "```\n",
    "\n",
    "In the file, the average and input quantities are recorded. The more interesting block is the `results` block. Here the calculated free energy value in eV/atom is given in the `free_energy` key. The free energy of the reference system is given in `reference_system` and the work done in switching is under `work`. The `error` key gives the error in the calculation. In this case, its 0 as we ran only a single loop (see `nsims`). The `report.yaml` file for liquid looks somewhat similar.\n",
    "\n",
    "```\n",
    "average:\n",
    "  density: 0.07557512575222705\n",
    "  vol/atom: 13.228440515092743\n",
    "input:\n",
    "  concentration: '1'\n",
    "  element: Cu\n",
    "  lattice: fcc\n",
    "  pressure: 0.0\n",
    "  temperature: 1200\n",
    "results:\n",
    "  error: 0.0\n",
    "  free_energy: -4.058745224019001\n",
    "  pv: 0.0\n",
    "  reference_system: 0.6842261808018877\n",
    "  work: 4.742971404820889\n",
    "```\n",
    "\n",
    "The main difference here is that under the `average` block, the `density` is reported instead of `spring_constant`.\n",
    "\n",
    "The variation of the free energy within the temperature range is given in the `temperature_sweep.dat` files instead of each of the folders. The file contains three columns, temperature, free energy and the error in free energy. The files are read in and plotted below."
   ]
  },
  {
   "cell_type": "code",
   "execution_count": 1,
   "id": "incorrect-wildlife",
   "metadata": {},
   "outputs": [],
   "source": [
    "import numpy as np\n",
    "import matplotlib.pyplot as plt"
   ]
  },
  {
   "cell_type": "code",
   "execution_count": 2,
   "id": "satisfactory-provision",
   "metadata": {},
   "outputs": [],
   "source": [
    "st, sfe, sferr = np.loadtxt(\"melting_temp/ts-FCC-1200-0/temperature_sweep.dat\", unpack=True)\n",
    "lt, lfe, lferr = np.loadtxt(\"melting_temp/ts-LQD-1200-0/temperature_sweep.dat\", unpack=True)"
   ]
  },
  {
   "cell_type": "code",
   "execution_count": 6,
   "id": "measured-oxford",
   "metadata": {},
   "outputs": [
    {
     "data": {
      "text/plain": [
       "<matplotlib.legend.Legend at 0x7efa88709f50>"
      ]
     },
     "execution_count": 6,
     "metadata": {},
     "output_type": "execute_result"
    },
    {
     "data": {
      "image/png": "[encoded data removed]",
      "text/plain": [
       "<Figure size 432x288 with 1 Axes>"
      ]
     },
     "metadata": {
      "needs_background": "light"
     },
     "output_type": "display_data"
    }
   ],
   "source": [
    "plt.plot(st, sfe, color=\"#E53935\", label=\"solid\")\n",
    "plt.plot(lt, lfe, color=\"#0097A7\", label=\"liquid\")\n",
    "plt.xlabel(\"Temperature (K)\", fontsize=12)\n",
    "plt.ylabel(\"F (ev/atom)\", fontsize=12)\n",
    "plt.legend()"
   ]
  },
  {
   "cell_type": "markdown",
   "id": "rental-addition",
   "metadata": {},
   "source": [
    "From the plot, at temperatures below 1300 K, solid is the more stable structure with lower free energy. Around 1325 K, liquid becomes the more stable structure. We can find the temperature at which the free energy of both phases are equal, which is the melting temperature."
   ]
  },
  {
   "cell_type": "code",
   "execution_count": 10,
   "id": "wrong-visit",
   "metadata": {},
   "outputs": [
    {
     "name": "stdout",
     "output_type": "stream",
     "text": [
      "1333.6846001020688 K\n"
     ]
    }
   ],
   "source": [
    "args = np.argsort(np.abs(sfe-lfe))\n",
    "print(st[args[0]], \"K\")"
   ]
  },
  {
   "cell_type": "markdown",
   "id": "altered-upset",
   "metadata": {},
   "source": [
    "The calculated melting temperature is 1333 K."
   ]
  },
  {
   "cell_type": "markdown",
   "id": "english-vienna",
   "metadata": {},
   "source": [
    "## Phase diagram\n",
    "\n",
    "In the next example, the temperature-pressure phase diagram will be calculated. The input file is available in the `phase_diagram` folder. The input file is also shown below. Compared to the melting temperature calculation, there are 4 entries in the `calculations` block. Since calculations are carried out at a non-zero pressure, `pytint` will automatically pick internal routines that calculate the Gibbs free energy instead of Helmholtz free energy."
   ]
  },
  {
   "cell_type": "markdown",
   "id": "defined-quantity",
   "metadata": {},
   "source": [
    "```\n",
    "element: Cu\n",
    "mass: 63.546\n",
    "calculations:\n",
    "- mode: ts \n",
    "  temperature: [1600, 1800]\n",
    "  pressure: [100000]\n",
    "  lattice: [FCC, LQD]\n",
    "  repeat: [5, 5, 5]\n",
    "  state: [solid, liquid]\n",
    "  nsims: 1\n",
    "- mode: ts \n",
    "  temperature: [2700, 2900]\n",
    "  pressure: [500000]\n",
    "  lattice: [FCC, LQD]\n",
    "  repeat: [5, 5, 5]\n",
    "  state: [solid, liquid]\n",
    "  nsims: 1\n",
    "- mode: ts \n",
    "  temperature: [3700, 3900]\n",
    "  pressure: [1000000]\n",
    "  lattice: [FCC, LQD]\n",
    "  repeat: [5, 5, 5]\n",
    "  state: [solid, liquid]\n",
    "  nsims: 1\n",
    "- mode: ts \n",
    "  temperature: [4600, 4700]\n",
    "  pressure: [1500000]\n",
    "  lattice: [FCC, LQD]\n",
    "  repeat: [5, 5, 5]\n",
    "  state: [solid, liquid]\n",
    "  nsims: 1\n",
    "\n",
    "md:\n",
    "  pair_style: eam/alloy\n",
    "  pair_coeff: \"* * /home/users/menonsqr/Repos/pytint/examples/Cu_EAM/Cu01.eam.alloy Cu\"\n",
    "  timestep: 0.001\n",
    "  nsmall: 10000\n",
    "  tdamp: 0.1\n",
    "  pdamp: 0.1\n",
    "  te: 25000\n",
    "  ts: 50000\n",
    "  \n",
    "queue:\n",
    "  scheduler: local\n",
    "  cores: 4\n",
    "  commands:\n",
    "    - conda activate py3\n",
    "```"
   ]
  },
  {
   "cell_type": "markdown",
   "id": "jewish-overview",
   "metadata": {},
   "source": [
    "Similar to the previous example, the calculation can be run using:\n",
    "\n",
    "```\n",
    "tint -i input.yaml\n",
    "```"
   ]
  },
  {
   "cell_type": "markdown",
   "id": "democratic-installation",
   "metadata": {},
   "source": [
    "After the calculations are run, we can read in the results. Two arrays, `temp` and `press` with the input temperature and pressure is created."
   ]
  },
  {
   "cell_type": "code",
   "execution_count": 16,
   "id": "fancy-timer",
   "metadata": {},
   "outputs": [],
   "source": [
    "temp = [1600, 2700, 3700, 4600]\n",
    "press = [100000, 500000, 1000000, 1500000]"
   ]
  },
  {
   "cell_type": "markdown",
   "id": "corresponding-marble",
   "metadata": {},
   "source": [
    "Now a small loop which goes over each folder and calculates the melting temperature value:"
   ]
  },
  {
   "cell_type": "code",
   "execution_count": 35,
   "id": "assigned-demonstration",
   "metadata": {},
   "outputs": [],
   "source": [
    "tms = []\n",
    "\n",
    "for t, p in zip(temp, press):\n",
    "    sfile =  \"phase_diagram/ts-FCC-%d-%d/temperature_sweep.dat\"%(t, p)\n",
    "    lfile =  \"phase_diagram/ts-LQD-%d-%d/temperature_sweep.dat\"%(t, p)\n",
    "    t, f, fe = np.loadtxt(sfile, unpack=True)\n",
    "    t, l, fe = np.loadtxt(lfile, unpack=True)\n",
    "    args = np.argsort(np.abs(f-l))\n",
    "    \n",
    "    tms.append(t[args[0]])"
   ]
  },
  {
   "cell_type": "markdown",
   "id": "useful-alberta",
   "metadata": {},
   "source": [
    "To compare our results, we will use a Simon equation, given by,\n",
    "\n",
    "$$\n",
    "T_m(P) = T_{m0}(P/a + 1)^b\n",
    "$$\n",
    "\n",
    "We will use reported values for parameters $T_{m0}$, $a$ and $b$ from two different publications:\n",
    "\n",
    "- [Wang, Shuaichuang, Gongmu Zhang, Haifeng Liu, and Haifeng Song. “Modified Z Method to Calculate Melting Curve by Molecular Dynamics.” The Journal of Chemical Physics 138, no. 13 (April 7, 2013): 134101.](https://doi.org/10.1063/1.4798225)"
   ]
  },
  {
   "cell_type": "code",
   "execution_count": 36,
   "id": "earned-lucas",
   "metadata": {},
   "outputs": [],
   "source": [
    "def get_tm(press):\n",
    "    tm = 1315*(press/15.84 + 1)**0.543\n",
    "    return tm"
   ]
  },
  {
   "cell_type": "markdown",
   "id": "still-gibraltar",
   "metadata": {},
   "source": [
    "- [An, Qi, Sheng-Nian Luo, Li-Bo Han, Lianqing Zheng, and Oliver Tschauner. “Melting of Cu under Hydrostatic and Shock Wave Loading to High Pressures.” Journal of Physics: Condensed Matter 20, no. 9 (March 5, 2008): 095220.](https://doi.org/10.1088/0953-8984/20/9/095220)"
   ]
  },
  {
   "cell_type": "code",
   "execution_count": 37,
   "id": "affecting-sheep",
   "metadata": {},
   "outputs": [],
   "source": [
    "def get_tm2(press):\n",
    "    tm = 1325*(press/15.37 + 1)**0.53\n",
    "    return tm"
   ]
  },
  {
   "cell_type": "markdown",
   "id": "guilty-chancellor",
   "metadata": {},
   "source": [
    "An array for pressures over which the two equations will be fit, and values of the two expressions are calculated."
   ]
  },
  {
   "cell_type": "code",
   "execution_count": 38,
   "id": "coral-voluntary",
   "metadata": {},
   "outputs": [],
   "source": [
    "pfit = np.arange(0, 151, 1)\n",
    "tma = get_tm(pfit)\n",
    "tmb = get_tm2(pfit)"
   ]
  },
  {
   "cell_type": "code",
   "execution_count": 44,
   "id": "billion-humidity",
   "metadata": {},
   "outputs": [
    {
     "data": {
      "text/plain": [
       "<matplotlib.legend.Legend at 0x7efa87c5b710>"
      ]
     },
     "execution_count": 44,
     "metadata": {},
     "output_type": "execute_result"
    },
    {
     "data": {
      "image/png": "[encoded data removed]",
      "text/plain": [
       "<Figure size 432x288 with 1 Axes>"
      ]
     },
     "metadata": {
      "needs_background": "light"
     },
     "output_type": "display_data"
    }
   ],
   "source": [
    "plt.plot(pfit, tma, ls=\"dashed\", label=\"Wang et al.\", color=\"#03A9F4\")\n",
    "plt.plot(pfit, tmb, ls=\"dashed\", label=\"An et. al.\", color=\"#E65100\")\n",
    "plt.plot(np.array(press)/10000, tms, 'o', color=\"#1A237E\")\n",
    "plt.xlabel(\"Pressure (GPa)\", fontsize=12)\n",
    "plt.ylabel(r\"$T_m$ (K)\", fontsize=12)\n",
    "plt.legend()"
   ]
  },
  {
   "cell_type": "markdown",
   "id": "chief-founder",
   "metadata": {},
   "source": [
    "We can see that the agreement is quite good!"
   ]
  }
 ],
 "metadata": {
  "kernelspec": {
   "display_name": "py3",
   "language": "python",
   "name": "py3"
  },
  "language_info": {
   "codemirror_mode": {
    "name": "ipython",
    "version": 3
   },
   "file_extension": ".py",
   "mimetype": "text/x-python",
   "name": "python",
   "nbconvert_exporter": "python",
   "pygments_lexer": "ipython3",
   "version": "3.7.9"
  }
 },
 "nbformat": 4,
 "nbformat_minor": 5
}
