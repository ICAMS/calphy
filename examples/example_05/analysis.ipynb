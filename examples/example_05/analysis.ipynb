{
 "cells": [
  {
   "cell_type": "markdown",
   "id": "joined-seven",
   "metadata": {},
   "source": [
    "# Example 06: Automated calculation of melting temperature"
   ]
  },
  {
   "cell_type": "markdown",
   "id": "authorized-presentation",
   "metadata": {},
   "source": [
    "In Example 03, we calculated the melting temperature for Cu. The same can be done in a fully automated way using Calphy. The input file in this case is shown below:\n",
    "\n",
    "```\n",
    "element: Cu\n",
    "mass: 63.546\n",
    "calculations:\n",
    "- mode: melting_temperature \n",
    "  pressure: [0]\n",
    "  repeat: [5, 5, 5]\n",
    "  nsims: 1\n",
    "\n",
    "md:\n",
    "  pair_style: eam/alloy\n",
    "  pair_coeff: \"* * ../potentials/Cu01.eam.alloy Cu\"\n",
    "  timestep: 0.001\n",
    "  nsmall: 10000\n",
    "  tdamp: 0.1\n",
    "  pdamp: 0.1\n",
    "  te: 10000\n",
    "  ts: 15000\n",
    "  \n",
    "queue:\n",
    "  scheduler: local\n",
    "  cores: 4\n",
    "  commands:\n",
    "    - conda activate calphy\n",
    "```\n",
    "\n",
    "There is much less information in the input file. For example, there is no need to specify the input lattice or temperature. Once the input file is set up, the calculation can be run using:\n",
    "\n",
    "```\n",
    "calphy -i input.yaml\n",
    "```\n",
    "\n",
    "A log file called `calphy.log`. The contents of the file after the calculation is run is shown below: "
   ]
  }
 ],
 "metadata": {
  "kernelspec": {
   "display_name": "calphy",
   "language": "python",
   "name": "calphy"
  },
  "language_info": {
   "codemirror_mode": {
    "name": "ipython",
    "version": 3
   },
   "file_extension": ".py",
   "mimetype": "text/x-python",
   "name": "python",
   "nbconvert_exporter": "python",
   "pygments_lexer": "ipython3",
   "version": "3.9.7"
  }
 },
 "nbformat": 4,
 "nbformat_minor": 5
}
