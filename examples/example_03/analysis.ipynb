{
 "cells": [
  {
   "cell_type": "markdown",
   "id": "underlying-aberdeen",
   "metadata": {},
   "source": [
    "# Example 03: Manual calculation of Cu melting temperature"
   ]
  },
  {
   "cell_type": "markdown",
   "id": "anonymous-fountain",
   "metadata": {},
   "source": [
    "In this example, the melting temperature for Cu is calculated using a combination of free energy calculation and temperature sweep.\n",
    "\n",
    "The EAM potential we will use is : [Mishin, Y., M. J. Mehl, D. A. Papaconstantopoulos, A. F. Voter, and J. D. Kress. “Structural Stability and Lattice Defects in Copper: Ab Initio , Tight-Binding, and Embedded-Atom Calculations.” Physical Review B 63, no. 22 (May 21, 2001): 224106.](https://doi.org/10.1103/PhysRevB.63.224106)\n",
    "\n",
    "The calculation block gives the input conditions at which the calculation is carried out. First of all, the `mode` is `ts`, a temperature sweep over the temperature range given in the `temperature` keyword will be done. `FCC` and `LQD` lattice are chosen, the former for `solid` and the latter for `liquid`. The potential file is specified in `pair_coeff` command in the `md` block.\n",
    "\n",
    "The calculation can be run by,\n",
    "```\n",
    "calphy -i input.yaml\n",
    "```\n",
    "Once submitted, it should give a message `Total number of 2 calculations found`. It will also create a set of folders with the names `mode-lattice-temperature-pressure`. In this case, there will be `ts-FCC-1200-0` and `ts-LQD-1200-0`. If there are any errors in the calculation, it will be recoreded in `ts-FCC-1200-0.sub.err` and `ts-LQD-1200-0.sub.err`. Once the calculation starts, a log file called `tint.log` will be created in the aforementioned folders. For example, the `tint.log` file in `ts-FCC-1200-0` is shown below:\n",
    "\n",
    "```\n",
    "2021-07-08 15:12:02,873 calphy.helpers INFO     At count 1 mean pressure is -5.337803 with 12.625936 vol/atom\n",
    "2021-07-08 15:12:09,592 calphy.helpers INFO     At count 2 mean pressure is -5.977502 with 12.625639 vol/atom\n",
    "2021-07-08 15:12:15,790 calphy.helpers INFO     At count 3 mean pressure is -6.557647 with 12.623906 vol/atom\n",
    "2021-07-08 15:12:22,059 calphy.helpers INFO     At count 4 mean pressure is -2.755662 with 12.624017 vol/atom\n",
    "2021-07-08 15:12:28,157 calphy.helpers INFO     At count 5 mean pressure is -1.306381 with 12.625061 vol/atom\n",
    "2021-07-08 15:12:34,405 calphy.helpers INFO     At count 6 mean pressure is 0.718567 with 12.625150 vol/atom\n",
    "2021-07-08 15:12:40,595 calphy.helpers INFO     At count 7 mean pressure is 2.185729 with 12.625295 vol/atom\n",
    "2021-07-08 15:12:47,020 calphy.helpers INFO     At count 8 mean pressure is 2.162312 with 12.625414 vol/atom\n",
    "2021-07-08 15:12:53,323 calphy.helpers INFO     At count 9 mean pressure is 1.137092 with 12.624953 vol/atom\n",
    "2021-07-08 15:12:59,692 calphy.helpers INFO     At count 10 mean pressure is 0.377612 with 12.625385 vol/atom\n",
    "2021-07-08 15:12:59,693 calphy.helpers INFO     finalized vol/atom 12.625385 at pressure 0.377612\n",
    "2021-07-08 15:12:59,693 calphy.helpers INFO     Avg box dimensions x: 18.483000, y: 18.483000, z:18.483000\n",
    "2021-07-08 15:13:05,878 calphy.helpers INFO     At count 1 mean k is 1.413201 std is 0.072135\n",
    "2021-07-08 15:13:12,088 calphy.helpers INFO     At count 2 mean k is 1.398951 std is 0.065801\n",
    "2021-07-08 15:13:12,090 calphy.helpers INFO     finalized sprint constants\n",
    "2021-07-08 15:13:12,090 calphy.helpers INFO     [1.4]\n",
    "\n",
    "```\n",
    "\n",
    "The file gives some information about the preparation stage. It can be seen that at loop 10, the pressure is converged and very close to the 0 value we specified in the input file. After the pressure is converged, box dimensions are fixed, and the spring constants for the Einstein crystal are calculated.  \n",
    "\n",
    "The `ts` mode consists of two stages, the first step is the calculation of free energy at 1200 K, followed by a sweep until 1400 K. The results of the free energy calculation is recorded in `report.yaml` file. The file is shown below:\n",
    "\n",
    "```\n",
    "average:\n",
    "  spring_constant: '1.4'\n",
    "  vol/atom: 12.625384980886036\n",
    "input:\n",
    "  concentration: '1'\n",
    "  element: Cu\n",
    "  lattice: fcc\n",
    "  pressure: 0.0\n",
    "  temperature: 1200\n",
    "results:\n",
    "  error: 0.0\n",
    "  free_energy: -4.071606995367944\n",
    "  pv: 0.0\n",
    "  reference_system: -0.7401785806445611\n",
    "  work: -3.331428414723382\n",
    "```\n",
    "\n",
    "In the file, the average and input quantities are recorded. The more interesting block is the `results` block. Here the calculated free energy value in eV/atom is given in the `free_energy` key. The free energy of the reference system is given in `reference_system` and the work done in switching is under `work`. The `error` key gives the error in the calculation. In this case, its 0 as we ran only a single loop (see `nsims`). The `report.yaml` file for liquid looks somewhat similar.\n",
    "\n",
    "```\n",
    "average:\n",
    "  density: 0.075597559457131\n",
    "  vol/atom: 13.227983329718013\n",
    "input:\n",
    "  concentration: '1'\n",
    "  element: Cu\n",
    "  lattice: fcc\n",
    "  pressure: 0.0\n",
    "  temperature: 1200\n",
    "results:\n",
    "  error: 0.0\n",
    "  free_energy: -4.058226884054426\n",
    "  pv: 0.0\n",
    "  reference_system: 0.6852066332000204\n",
    "  work: 4.743433517254447\n",
    "```\n",
    "\n",
    "The main difference here is that under the `average` block, the `density` is reported instead of `spring_constant`.\n",
    "\n",
    "The variation of the free energy within the temperature range is given in the `temperature_sweep.dat` files instead of each of the folders. The file contains three columns, temperature, free energy and the error in free energy. The files are read in and plotted below."
   ]
  },
  {
   "cell_type": "code",
   "execution_count": 1,
   "id": "trained-malpractice",
   "metadata": {},
   "outputs": [],
   "source": [
    "import numpy as np\n",
    "import matplotlib.pyplot as plt"
   ]
  },
  {
   "cell_type": "code",
   "execution_count": 3,
   "id": "surprising-orleans",
   "metadata": {},
   "outputs": [],
   "source": [
    "st, sfe, sferr = np.loadtxt(\"ts-FCC-1200-0/temperature_sweep.dat\", unpack=True)\n",
    "lt, lfe, lferr = np.loadtxt(\"ts-LQD-1200-0/temperature_sweep.dat\", unpack=True)"
   ]
  },
  {
   "cell_type": "code",
   "execution_count": 4,
   "id": "athletic-hands",
   "metadata": {},
   "outputs": [
    {
     "data": {
      "image/png": "[encoded data removed]",
      "text/plain": [
       "<Figure size 432x288 with 1 Axes>"
      ]
     },
     "metadata": {
      "needs_background": "light"
     },
     "output_type": "display_data"
    }
   ],
   "source": [
    "plt.plot(st, sfe, color=\"#E53935\", label=\"solid\")\n",
    "plt.plot(lt, lfe, color=\"#0097A7\", label=\"liquid\")\n",
    "plt.xlabel(\"Temperature (K)\", fontsize=12)\n",
    "plt.ylabel(\"F (ev/atom)\", fontsize=12)\n",
    "plt.legend()\n",
    "plt.savefig(\"tm.png\", dpi=300, bbox_inches=\"tight\")"
   ]
  },
  {
   "cell_type": "markdown",
   "id": "united-appearance",
   "metadata": {},
   "source": [
    "From the plot, at temperatures below 1300 K, solid is the more stable structure with lower free energy. Around 1340 K, liquid becomes the more stable structure. We can find the temperature at which the free energy of both phases are equal, which is the melting temperature."
   ]
  },
  {
   "cell_type": "code",
   "execution_count": 5,
   "id": "compact-transaction",
   "metadata": {},
   "outputs": [
    {
     "name": "stdout",
     "output_type": "stream",
     "text": [
      "1344.3095672974282 K\n"
     ]
    }
   ],
   "source": [
    "args = np.argsort(np.abs(sfe-lfe))\n",
    "print(st[args[0]], \"K\")"
   ]
  }
 ],
 "metadata": {
  "kernelspec": {
   "display_name": "calphy",
   "language": "python",
   "name": "calphy"
  },
  "language_info": {
   "codemirror_mode": {
    "name": "ipython",
    "version": 3
   },
   "file_extension": ".py",
   "mimetype": "text/x-python",
   "name": "python",
   "nbconvert_exporter": "python",
   "pygments_lexer": "ipython3",
   "version": "3.9.7"
  }
 },
 "nbformat": 4,
 "nbformat_minor": 5
}
